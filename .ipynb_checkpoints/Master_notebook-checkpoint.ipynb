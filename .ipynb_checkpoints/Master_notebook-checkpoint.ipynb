{
 "cells": [
  {
   "cell_type": "markdown",
   "metadata": {},
   "source": [
    "\n",
    "# Imputing Missing Values"
   ]
  },
  {
   "cell_type": "markdown",
   "metadata": {},
   "source": [
    "## Description\n",
    "\n",
    "Proper handling of missing data is crucial to derive reliable conclusions from an analysis, particularly when the underlying process is not completely random. The following three examples illustrate these critical cases:\n",
    "\n",
    "* A survey-based earnings series may have missing values because high-income respondents do not want to reveal their earnings. \n",
    "* Patients may be more likely to opt out of undertaking a medical treatment when the treatment causes discomfort. \n",
    "* A blood pressure data series may have missing values for young patients who have no cardiovascular diseases. \n",
    "\n",
    "This analysis focuses on one of these critical cases illustrated by the blood pressure example above. This case is called \"missingness at random\", a confusing name as it does not sound much different from the \"missingness completely at random\" case. But, they are different. When data are missing at random, the probability of missingness depends on the available information. The following analysis examines if a random regression approach can be used to impute the missing data in these cases (for a comprehensive treatment of the subject, please refer to Gelman and Hill).  \n",
    "\n",
    "The analysis uses an unconditional income convergence model for its simplicity. In this model, growth in a country's incomes is explained by the country's initial income level, adjusted for cross-country price differentials. The expectation is that countries that start off from a relatively low income level grow faster and catch up with the rest. The \"missingness at random\" mechanism is implemented by setting half of the values in the independent variable, PPP adjusted per capita GDP series, to missing ."
   ]
  },
  {
   "cell_type": "markdown",
   "metadata": {},
   "source": [
    "## Data Preparation\n",
    "\n"
   ]
  },
  {
   "cell_type": "markdown",
   "metadata": {},
   "source": [
    "The data used in the analysis are from the World Development Indicators database, downloaded through the API. "
   ]
  },
  {
   "cell_type": "code",
   "execution_count": 1,
   "metadata": {},
   "outputs": [],
   "source": [
    "import numpy as np\n",
    "import pandas as pd\n",
    "import matplotlib.pyplot as plt\n",
    "import seaborn as sns\n",
    "import requests\n",
    "from scipy.stats import gmean\n",
    "import numpy as np\n",
    "import statsmodels.api as sm"
   ]
  },
  {
   "cell_type": "code",
   "execution_count": 2,
   "metadata": {},
   "outputs": [],
   "source": [
    "url = 'http://api.worldbank.org/v2/country/all/indicator'\n",
    "indicator_list = ['NY.GDP.PCAP.KD.ZG',\n",
    "                  'NY.GDP.PCAP.PP.CD']\n",
    "parameters = {'date': '1989:2018',\n",
    "              'footnote': 'n',\n",
    "              'format': 'json',\n",
    "              'per_page': 7920}\n",
    "results_list = []\n",
    "for indicator in indicator_list:\n",
    "    results = requests.get(f'{url}/{indicator}', params = parameters)\n",
    "    if results.status_code == 200:\n",
    "        results_list.append(results.json())\n",
    "    else:\n",
    "        print('Failed request')"
   ]
  },
  {
   "cell_type": "code",
   "execution_count": 135,
   "metadata": {},
   "outputs": [],
   "source": [
    "%run data_prep.py"
   ]
  },
  {
   "cell_type": "code",
   "execution_count": 4,
   "metadata": {},
   "outputs": [],
   "source": [
    "df = flatten_wb_api_response(results_list)"
   ]
  },
  {
   "cell_type": "markdown",
   "metadata": {},
   "source": [
    "To limit the analysis the countries and exclude the aggregates, the UN country code list is used as a filter. The period of analysis is 1994-2018."
   ]
  },
  {
   "cell_type": "code",
   "execution_count": 5,
   "metadata": {},
   "outputs": [],
   "source": [
    "df = clean_data(df)"
   ]
  },
  {
   "cell_type": "code",
   "execution_count": 6,
   "metadata": {},
   "outputs": [
    {
     "data": {
      "text/html": [
       "<div>\n",
       "<style scoped>\n",
       "    .dataframe tbody tr th:only-of-type {\n",
       "        vertical-align: middle;\n",
       "    }\n",
       "\n",
       "    .dataframe tbody tr th {\n",
       "        vertical-align: top;\n",
       "    }\n",
       "\n",
       "    .dataframe thead th {\n",
       "        text-align: right;\n",
       "    }\n",
       "</style>\n",
       "<table border=\"1\" class=\"dataframe\">\n",
       "  <thead>\n",
       "    <tr style=\"text-align: right;\">\n",
       "      <th>indicator</th>\n",
       "      <th>country_iso3_code</th>\n",
       "      <th>country</th>\n",
       "      <th>year</th>\n",
       "      <th>pc_GDP_growth</th>\n",
       "      <th>pc_GDP_PPP</th>\n",
       "    </tr>\n",
       "  </thead>\n",
       "  <tbody>\n",
       "    <tr>\n",
       "      <td>5</td>\n",
       "      <td>ABW</td>\n",
       "      <td>Aruba</td>\n",
       "      <td>1994</td>\n",
       "      <td>2.284430</td>\n",
       "      <td>27714.716606</td>\n",
       "    </tr>\n",
       "    <tr>\n",
       "      <td>6</td>\n",
       "      <td>ABW</td>\n",
       "      <td>Aruba</td>\n",
       "      <td>1995</td>\n",
       "      <td>-2.079505</td>\n",
       "      <td>27707.433894</td>\n",
       "    </tr>\n",
       "    <tr>\n",
       "      <td>7</td>\n",
       "      <td>ABW</td>\n",
       "      <td>Aruba</td>\n",
       "      <td>1996</td>\n",
       "      <td>-2.311930</td>\n",
       "      <td>27562.459828</td>\n",
       "    </tr>\n",
       "    <tr>\n",
       "      <td>8</td>\n",
       "      <td>ABW</td>\n",
       "      <td>Aruba</td>\n",
       "      <td>1997</td>\n",
       "      <td>4.226981</td>\n",
       "      <td>29222.894599</td>\n",
       "    </tr>\n",
       "    <tr>\n",
       "      <td>9</td>\n",
       "      <td>ABW</td>\n",
       "      <td>Aruba</td>\n",
       "      <td>1998</td>\n",
       "      <td>-0.141877</td>\n",
       "      <td>29509.877023</td>\n",
       "    </tr>\n",
       "  </tbody>\n",
       "</table>\n",
       "</div>"
      ],
      "text/plain": [
       "indicator country_iso3_code country  year  pc_GDP_growth    pc_GDP_PPP\n",
       "5                       ABW   Aruba  1994       2.284430  27714.716606\n",
       "6                       ABW   Aruba  1995      -2.079505  27707.433894\n",
       "7                       ABW   Aruba  1996      -2.311930  27562.459828\n",
       "8                       ABW   Aruba  1997       4.226981  29222.894599\n",
       "9                       ABW   Aruba  1998      -0.141877  29509.877023"
      ]
     },
     "execution_count": 6,
     "metadata": {},
     "output_type": "execute_result"
    }
   ],
   "source": [
    "df.head()"
   ]
  },
  {
   "cell_type": "markdown",
   "metadata": {},
   "source": [
    "The initial per capita GDP (PPP adjusted) is a 3-year (1994-96) average."
   ]
  },
  {
   "cell_type": "code",
   "execution_count": 8,
   "metadata": {},
   "outputs": [],
   "source": [
    "pc_GDP_PPP_df = df.loc[(df.year >= 1994) & (df.year <= 1996)]\n",
    "pc_GDP_PPP_df = pc_GDP_PPP_df.groupby(['country_iso3_code', 'country']).mean()[['pc_GDP_PPP']]"
   ]
  },
  {
   "cell_type": "markdown",
   "metadata": {},
   "source": [
    "Geometric average of the real GDP growth rates is computed for each country and for the period 1995-2018."
   ]
  },
  {
   "cell_type": "code",
   "execution_count": 9,
   "metadata": {},
   "outputs": [],
   "source": [
    "pc_GDP_growth_df = df.loc[(df.year >= 1995) & (df.year <= 2018)]"
   ]
  },
  {
   "cell_type": "code",
   "execution_count": 10,
   "metadata": {},
   "outputs": [
    {
     "name": "stderr",
     "output_type": "stream",
     "text": [
      "/opt/anaconda3/lib/python3.7/site-packages/ipykernel_launcher.py:1: SettingWithCopyWarning: \n",
      "A value is trying to be set on a copy of a slice from a DataFrame.\n",
      "Try using .loc[row_indexer,col_indexer] = value instead\n",
      "\n",
      "See the caveats in the documentation: http://pandas.pydata.org/pandas-docs/stable/user_guide/indexing.html#returning-a-view-versus-a-copy\n",
      "  \"\"\"Entry point for launching an IPython kernel.\n"
     ]
    }
   ],
   "source": [
    "pc_GDP_growth_df['pc_GDP_growth'] = (pc_GDP_growth_df.pc_GDP_growth + 100) / 100"
   ]
  },
  {
   "cell_type": "code",
   "execution_count": 11,
   "metadata": {},
   "outputs": [],
   "source": [
    "pc_GDP_growth_df = pc_GDP_growth_df.groupby(['country_iso3_code', 'country'])"
   ]
  },
  {
   "cell_type": "code",
   "execution_count": 12,
   "metadata": {
    "scrolled": true
   },
   "outputs": [],
   "source": [
    "pc_GDP_growth_df = pc_GDP_growth_df.pc_GDP_growth.apply(gmean)"
   ]
  },
  {
   "cell_type": "code",
   "execution_count": 13,
   "metadata": {},
   "outputs": [],
   "source": [
    "convergence_df = pc_GDP_PPP_df.merge(pc_GDP_growth_df, left_index = True, right_index = True)"
   ]
  },
  {
   "cell_type": "code",
   "execution_count": 14,
   "metadata": {},
   "outputs": [],
   "source": [
    "convergence_df['pc_GDP_PPP'] = np.log(convergence_df.pc_GDP_PPP)"
   ]
  },
  {
   "cell_type": "code",
   "execution_count": 15,
   "metadata": {},
   "outputs": [],
   "source": [
    "convergence_df['pc_GDP_growth'] = (convergence_df.pc_GDP_growth - 1) * 100"
   ]
  },
  {
   "cell_type": "code",
   "execution_count": 16,
   "metadata": {},
   "outputs": [
    {
     "data": {
      "text/html": [
       "<div>\n",
       "<style scoped>\n",
       "    .dataframe tbody tr th:only-of-type {\n",
       "        vertical-align: middle;\n",
       "    }\n",
       "\n",
       "    .dataframe tbody tr th {\n",
       "        vertical-align: top;\n",
       "    }\n",
       "\n",
       "    .dataframe thead th {\n",
       "        text-align: right;\n",
       "    }\n",
       "</style>\n",
       "<table border=\"1\" class=\"dataframe\">\n",
       "  <thead>\n",
       "    <tr style=\"text-align: right;\">\n",
       "      <th></th>\n",
       "      <th></th>\n",
       "      <th>pc_GDP_PPP</th>\n",
       "      <th>pc_GDP_growth</th>\n",
       "    </tr>\n",
       "    <tr>\n",
       "      <th>country_iso3_code</th>\n",
       "      <th>country</th>\n",
       "      <th></th>\n",
       "      <th></th>\n",
       "    </tr>\n",
       "  </thead>\n",
       "  <tbody>\n",
       "    <tr>\n",
       "      <td>ABW</td>\n",
       "      <td>Aruba</td>\n",
       "      <td>10.227798</td>\n",
       "      <td>-0.467633</td>\n",
       "    </tr>\n",
       "    <tr>\n",
       "      <td>AGO</td>\n",
       "      <td>Angola</td>\n",
       "      <td>7.878085</td>\n",
       "      <td>2.644252</td>\n",
       "    </tr>\n",
       "    <tr>\n",
       "      <td>ALB</td>\n",
       "      <td>Albania</td>\n",
       "      <td>7.880279</td>\n",
       "      <td>5.231749</td>\n",
       "    </tr>\n",
       "    <tr>\n",
       "      <td>ARE</td>\n",
       "      <td>United Arab Emirates</td>\n",
       "      <td>11.401524</td>\n",
       "      <td>-1.719834</td>\n",
       "    </tr>\n",
       "    <tr>\n",
       "      <td>ARG</td>\n",
       "      <td>Argentina</td>\n",
       "      <td>9.234410</td>\n",
       "      <td>0.958335</td>\n",
       "    </tr>\n",
       "  </tbody>\n",
       "</table>\n",
       "</div>"
      ],
      "text/plain": [
       "                                        pc_GDP_PPP  pc_GDP_growth\n",
       "country_iso3_code country                                        \n",
       "ABW               Aruba                  10.227798      -0.467633\n",
       "AGO               Angola                  7.878085       2.644252\n",
       "ALB               Albania                 7.880279       5.231749\n",
       "ARE               United Arab Emirates   11.401524      -1.719834\n",
       "ARG               Argentina               9.234410       0.958335"
      ]
     },
     "execution_count": 16,
     "metadata": {},
     "output_type": "execute_result"
    }
   ],
   "source": [
    "convergence_df.head()"
   ]
  },
  {
   "cell_type": "code",
   "execution_count": 17,
   "metadata": {},
   "outputs": [
    {
     "data": {
      "text/html": [
       "<div>\n",
       "<style scoped>\n",
       "    .dataframe tbody tr th:only-of-type {\n",
       "        vertical-align: middle;\n",
       "    }\n",
       "\n",
       "    .dataframe tbody tr th {\n",
       "        vertical-align: top;\n",
       "    }\n",
       "\n",
       "    .dataframe thead th {\n",
       "        text-align: right;\n",
       "    }\n",
       "</style>\n",
       "<table border=\"1\" class=\"dataframe\">\n",
       "  <thead>\n",
       "    <tr style=\"text-align: right;\">\n",
       "      <th></th>\n",
       "      <th>pc_GDP_PPP</th>\n",
       "      <th>pc_GDP_growth</th>\n",
       "    </tr>\n",
       "  </thead>\n",
       "  <tbody>\n",
       "    <tr>\n",
       "      <td>count</td>\n",
       "      <td>180.000000</td>\n",
       "      <td>180.000000</td>\n",
       "    </tr>\n",
       "    <tr>\n",
       "      <td>mean</td>\n",
       "      <td>8.453381</td>\n",
       "      <td>2.323305</td>\n",
       "    </tr>\n",
       "    <tr>\n",
       "      <td>std</td>\n",
       "      <td>1.212102</td>\n",
       "      <td>1.948434</td>\n",
       "    </tr>\n",
       "    <tr>\n",
       "      <td>min</td>\n",
       "      <td>5.821235</td>\n",
       "      <td>-1.719834</td>\n",
       "    </tr>\n",
       "    <tr>\n",
       "      <td>25%</td>\n",
       "      <td>7.500111</td>\n",
       "      <td>1.170496</td>\n",
       "    </tr>\n",
       "    <tr>\n",
       "      <td>50%</td>\n",
       "      <td>8.503141</td>\n",
       "      <td>1.963249</td>\n",
       "    </tr>\n",
       "    <tr>\n",
       "      <td>75%</td>\n",
       "      <td>9.355601</td>\n",
       "      <td>3.145496</td>\n",
       "    </tr>\n",
       "    <tr>\n",
       "      <td>max</td>\n",
       "      <td>11.401524</td>\n",
       "      <td>11.261777</td>\n",
       "    </tr>\n",
       "  </tbody>\n",
       "</table>\n",
       "</div>"
      ],
      "text/plain": [
       "       pc_GDP_PPP  pc_GDP_growth\n",
       "count  180.000000     180.000000\n",
       "mean     8.453381       2.323305\n",
       "std      1.212102       1.948434\n",
       "min      5.821235      -1.719834\n",
       "25%      7.500111       1.170496\n",
       "50%      8.503141       1.963249\n",
       "75%      9.355601       3.145496\n",
       "max     11.401524      11.261777"
      ]
     },
     "execution_count": 17,
     "metadata": {},
     "output_type": "execute_result"
    }
   ],
   "source": [
    "convergence_df.describe()"
   ]
  },
  {
   "cell_type": "markdown",
   "metadata": {},
   "source": [
    "## Analysis"
   ]
  },
  {
   "cell_type": "code",
   "execution_count": 136,
   "metadata": {},
   "outputs": [],
   "source": [
    "convergence_df = add_weights(convergence_df)"
   ]
  },
  {
   "cell_type": "code",
   "execution_count": 137,
   "metadata": {},
   "outputs": [
    {
     "data": {
      "image/png": "[encoded data removed]",
      "text/plain": [
       "<Figure size 432x288 with 1 Axes>"
      ]
     },
     "metadata": {
      "needs_background": "light"
     },
     "output_type": "display_data"
    }
   ],
   "source": [
    "ax1 = sns.scatterplot(x = 'pc_GDP_growth', y = 'weight', data = convergence_df)"
   ]
  },
  {
   "cell_type": "code",
   "execution_count": 138,
   "metadata": {},
   "outputs": [
    {
     "data": {
      "text/plain": [
       "1.0"
      ]
     },
     "execution_count": 138,
     "metadata": {},
     "output_type": "execute_result"
    }
   ],
   "source": [
    "convergence_df.weight.sum()"
   ]
  },
  {
   "cell_type": "markdown",
   "metadata": {},
   "source": [
    "### Creating missing values"
   ]
  },
  {
   "cell_type": "code",
   "execution_count": 139,
   "metadata": {},
   "outputs": [],
   "source": [
    "np.random.seed(seed = 12345)"
   ]
  },
  {
   "cell_type": "code",
   "execution_count": 140,
   "metadata": {},
   "outputs": [],
   "source": [
    "na_df = convergence_df.copy()\n",
    "na_df.loc[na_df.sample(frac = 0.5, replace = False, weights = 'weight').index, 'pc_GDP_PPP'] = np.nan "
   ]
  },
  {
   "cell_type": "code",
   "execution_count": 141,
   "metadata": {},
   "outputs": [
    {
     "data": {
      "text/html": [
       "<div>\n",
       "<style scoped>\n",
       "    .dataframe tbody tr th:only-of-type {\n",
       "        vertical-align: middle;\n",
       "    }\n",
       "\n",
       "    .dataframe tbody tr th {\n",
       "        vertical-align: top;\n",
       "    }\n",
       "\n",
       "    .dataframe thead th {\n",
       "        text-align: right;\n",
       "    }\n",
       "</style>\n",
       "<table border=\"1\" class=\"dataframe\">\n",
       "  <thead>\n",
       "    <tr style=\"text-align: right;\">\n",
       "      <th></th>\n",
       "      <th></th>\n",
       "      <th>pc_GDP_PPP</th>\n",
       "      <th>pc_GDP_growth</th>\n",
       "      <th>weight</th>\n",
       "    </tr>\n",
       "    <tr>\n",
       "      <th>country_iso3_code</th>\n",
       "      <th>country</th>\n",
       "      <th></th>\n",
       "      <th></th>\n",
       "      <th></th>\n",
       "    </tr>\n",
       "  </thead>\n",
       "  <tbody>\n",
       "    <tr>\n",
       "      <td>ABW</td>\n",
       "      <td>Aruba</td>\n",
       "      <td>10.227798</td>\n",
       "      <td>-0.467633</td>\n",
       "      <td>0.000000</td>\n",
       "    </tr>\n",
       "    <tr>\n",
       "      <td>AGO</td>\n",
       "      <td>Angola</td>\n",
       "      <td>7.878085</td>\n",
       "      <td>2.644252</td>\n",
       "      <td>0.006213</td>\n",
       "    </tr>\n",
       "    <tr>\n",
       "      <td>ALB</td>\n",
       "      <td>Albania</td>\n",
       "      <td>NaN</td>\n",
       "      <td>5.231749</td>\n",
       "      <td>0.012293</td>\n",
       "    </tr>\n",
       "    <tr>\n",
       "      <td>ARE</td>\n",
       "      <td>United Arab Emirates</td>\n",
       "      <td>11.401524</td>\n",
       "      <td>-1.719834</td>\n",
       "      <td>0.000000</td>\n",
       "    </tr>\n",
       "    <tr>\n",
       "      <td>ARG</td>\n",
       "      <td>Argentina</td>\n",
       "      <td>9.234410</td>\n",
       "      <td>0.958335</td>\n",
       "      <td>0.002252</td>\n",
       "    </tr>\n",
       "  </tbody>\n",
       "</table>\n",
       "</div>"
      ],
      "text/plain": [
       "                                        pc_GDP_PPP  pc_GDP_growth    weight\n",
       "country_iso3_code country                                                  \n",
       "ABW               Aruba                  10.227798      -0.467633  0.000000\n",
       "AGO               Angola                  7.878085       2.644252  0.006213\n",
       "ALB               Albania                      NaN       5.231749  0.012293\n",
       "ARE               United Arab Emirates   11.401524      -1.719834  0.000000\n",
       "ARG               Argentina               9.234410       0.958335  0.002252"
      ]
     },
     "execution_count": 141,
     "metadata": {},
     "output_type": "execute_result"
    }
   ],
   "source": [
    "na_df.head()"
   ]
  },
  {
   "cell_type": "code",
   "execution_count": 142,
   "metadata": {},
   "outputs": [
    {
     "data": {
      "image/png": "[encoded data removed]",
      "text/plain": [
       "<Figure size 432x288 with 1 Axes>"
      ]
     },
     "metadata": {
      "needs_background": "light"
     },
     "output_type": "display_data"
    }
   ],
   "source": [
    "ax1 = sns.distplot(na_df.loc[na_df.pc_GDP_PPP.isna(), 'pc_GDP_growth'])"
   ]
  },
  {
   "cell_type": "code",
   "execution_count": 143,
   "metadata": {},
   "outputs": [
    {
     "data": {
      "image/png": "[encoded data removed]",
      "text/plain": [
       "<Figure size 432x288 with 1 Axes>"
      ]
     },
     "metadata": {
      "needs_background": "light"
     },
     "output_type": "display_data"
    }
   ],
   "source": [
    "ax1 = sns.distplot(na_df['pc_GDP_growth'])"
   ]
  },
  {
   "cell_type": "code",
   "execution_count": 144,
   "metadata": {},
   "outputs": [
    {
     "data": {
      "image/png": "[encoded data removed]",
      "text/plain": [
       "<Figure size 432x288 with 1 Axes>"
      ]
     },
     "metadata": {
      "needs_background": "light"
     },
     "output_type": "display_data"
    }
   ],
   "source": [
    "ax1 = sns.regplot(x = 'pc_GDP_PPP', y = 'pc_GDP_growth', data = convergence_df, ci = None, color = 'r')\n",
    "sns.regplot(x = 'pc_GDP_PPP', y = 'pc_GDP_growth', data = na_df, ci = None, ax = ax1)\n",
    "ax1.set_xlabel('PPP adjusted per capita GDP in 1995')\n",
    "ax1.set_ylabel('Annual growth in per capita GDP\\n1995-2018')\n",
    "ax1.set_title('Income Convergence, 1995-2018')\n",
    "ax1.legend(['full-sample regression', 'complete-case regression', 'set to missing'])\n",
    "plt.show()"
   ]
  },
  {
   "cell_type": "code",
   "execution_count": 145,
   "metadata": {},
   "outputs": [],
   "source": [
    "model = sm.OLS.from_formula('pc_GDP_PPP ~ pc_GDP_growth', na_df, missing = 'drop')\n",
    "rslts = model.fit()\n",
    "beta0 = rslts.params['Intercept']\n",
    "beta1 = rslts.params['pc_GDP_growth']\n",
    "std0 = rslts.bse['Intercept']\n",
    "std1 = rslts.bse['pc_GDP_growth']"
   ]
  },
  {
   "cell_type": "code",
   "execution_count": 146,
   "metadata": {},
   "outputs": [],
   "source": [
    "imputed_df = na_df.copy()"
   ]
  },
  {
   "cell_type": "code",
   "execution_count": 147,
   "metadata": {},
   "outputs": [],
   "source": [
    "for i in imputed_df.loc[imputed_df.pc_GDP_PPP.isna()].index:\n",
    "    imputed_df.pc_GDP_PPP[i] = np.random.normal(loc = beta0, scale = std0, size = 1) + \\\n",
    "                               np.random.normal(loc = beta1, scale = std1, size = 1) * imputed_df.pc_GDP_growth[i]"
   ]
  },
  {
   "cell_type": "code",
   "execution_count": 148,
   "metadata": {},
   "outputs": [
    {
     "data": {
      "text/html": [
       "<div>\n",
       "<style scoped>\n",
       "    .dataframe tbody tr th:only-of-type {\n",
       "        vertical-align: middle;\n",
       "    }\n",
       "\n",
       "    .dataframe tbody tr th {\n",
       "        vertical-align: top;\n",
       "    }\n",
       "\n",
       "    .dataframe thead th {\n",
       "        text-align: right;\n",
       "    }\n",
       "</style>\n",
       "<table border=\"1\" class=\"dataframe\">\n",
       "  <thead>\n",
       "    <tr style=\"text-align: right;\">\n",
       "      <th></th>\n",
       "      <th></th>\n",
       "      <th>pc_GDP_PPP</th>\n",
       "      <th>pc_GDP_growth</th>\n",
       "      <th>weight</th>\n",
       "    </tr>\n",
       "    <tr>\n",
       "      <th>country_iso3_code</th>\n",
       "      <th>country</th>\n",
       "      <th></th>\n",
       "      <th></th>\n",
       "      <th></th>\n",
       "    </tr>\n",
       "  </thead>\n",
       "  <tbody>\n",
       "    <tr>\n",
       "      <td>ABW</td>\n",
       "      <td>Aruba</td>\n",
       "      <td>10.227798</td>\n",
       "      <td>-0.467633</td>\n",
       "      <td>0.000000</td>\n",
       "    </tr>\n",
       "    <tr>\n",
       "      <td>AGO</td>\n",
       "      <td>Angola</td>\n",
       "      <td>7.878085</td>\n",
       "      <td>2.644252</td>\n",
       "      <td>0.006213</td>\n",
       "    </tr>\n",
       "    <tr>\n",
       "      <td>ALB</td>\n",
       "      <td>Albania</td>\n",
       "      <td>7.327095</td>\n",
       "      <td>5.231749</td>\n",
       "      <td>0.012293</td>\n",
       "    </tr>\n",
       "    <tr>\n",
       "      <td>ARE</td>\n",
       "      <td>United Arab Emirates</td>\n",
       "      <td>11.401524</td>\n",
       "      <td>-1.719834</td>\n",
       "      <td>0.000000</td>\n",
       "    </tr>\n",
       "    <tr>\n",
       "      <td>ARG</td>\n",
       "      <td>Argentina</td>\n",
       "      <td>9.234410</td>\n",
       "      <td>0.958335</td>\n",
       "      <td>0.002252</td>\n",
       "    </tr>\n",
       "  </tbody>\n",
       "</table>\n",
       "</div>"
      ],
      "text/plain": [
       "                                        pc_GDP_PPP  pc_GDP_growth    weight\n",
       "country_iso3_code country                                                  \n",
       "ABW               Aruba                  10.227798      -0.467633  0.000000\n",
       "AGO               Angola                  7.878085       2.644252  0.006213\n",
       "ALB               Albania                 7.327095       5.231749  0.012293\n",
       "ARE               United Arab Emirates   11.401524      -1.719834  0.000000\n",
       "ARG               Argentina               9.234410       0.958335  0.002252"
      ]
     },
     "execution_count": 148,
     "metadata": {},
     "output_type": "execute_result"
    }
   ],
   "source": [
    "imputed_df.head()"
   ]
  },
  {
   "cell_type": "code",
   "execution_count": 149,
   "metadata": {},
   "outputs": [
    {
     "data": {
      "image/png": "[encoded data removed]",
      "text/plain": [
       "<Figure size 432x288 with 1 Axes>"
      ]
     },
     "metadata": {
      "needs_background": "light"
     },
     "output_type": "display_data"
    }
   ],
   "source": [
    "ax1 = sns.regplot(x = 'pc_GDP_PPP', y = 'pc_GDP_growth', data = convergence_df, ci = None, color = 'r')\n",
    "sns.regplot(x = 'pc_GDP_PPP', y = 'pc_GDP_growth', data = imputed_df, ci = None, ax = ax1)\n",
    "ax1.set_xlabel('PPP adjusted per capita GDP in 1995')\n",
    "ax1.set_ylabel('Annual growth in per capita GDP\\n1995-2018')\n",
    "ax1.set_title('Income Convergence, 1995-2018')\n",
    "ax1.legend(['full-sample regression', 'complete-case regression', 'set to missing'])\n",
    "plt.show()"
   ]
  },
  {
   "cell_type": "code",
   "execution_count": 150,
   "metadata": {},
   "outputs": [],
   "source": [
    "%run Analysis.py"
   ]
  },
  {
   "cell_type": "code",
   "execution_count": 151,
   "metadata": {},
   "outputs": [],
   "source": [
    "na_df_list = simulate_na(convergence_df, N = 200)"
   ]
  },
  {
   "cell_type": "code",
   "execution_count": 152,
   "metadata": {},
   "outputs": [
    {
     "data": {
      "text/html": [
       "<div>\n",
       "<style scoped>\n",
       "    .dataframe tbody tr th:only-of-type {\n",
       "        vertical-align: middle;\n",
       "    }\n",
       "\n",
       "    .dataframe tbody tr th {\n",
       "        vertical-align: top;\n",
       "    }\n",
       "\n",
       "    .dataframe thead th {\n",
       "        text-align: right;\n",
       "    }\n",
       "</style>\n",
       "<table border=\"1\" class=\"dataframe\">\n",
       "  <thead>\n",
       "    <tr style=\"text-align: right;\">\n",
       "      <th></th>\n",
       "      <th></th>\n",
       "      <th>pc_GDP_PPP</th>\n",
       "      <th>pc_GDP_growth</th>\n",
       "      <th>weight</th>\n",
       "    </tr>\n",
       "    <tr>\n",
       "      <th>country_iso3_code</th>\n",
       "      <th>country</th>\n",
       "      <th></th>\n",
       "      <th></th>\n",
       "      <th></th>\n",
       "    </tr>\n",
       "  </thead>\n",
       "  <tbody>\n",
       "    <tr>\n",
       "      <td>ABW</td>\n",
       "      <td>Aruba</td>\n",
       "      <td>10.227798</td>\n",
       "      <td>-0.467633</td>\n",
       "      <td>0.000000</td>\n",
       "    </tr>\n",
       "    <tr>\n",
       "      <td>AGO</td>\n",
       "      <td>Angola</td>\n",
       "      <td>NaN</td>\n",
       "      <td>2.644252</td>\n",
       "      <td>0.006213</td>\n",
       "    </tr>\n",
       "    <tr>\n",
       "      <td>ALB</td>\n",
       "      <td>Albania</td>\n",
       "      <td>NaN</td>\n",
       "      <td>5.231749</td>\n",
       "      <td>0.012293</td>\n",
       "    </tr>\n",
       "    <tr>\n",
       "      <td>ARE</td>\n",
       "      <td>United Arab Emirates</td>\n",
       "      <td>11.401524</td>\n",
       "      <td>-1.719834</td>\n",
       "      <td>0.000000</td>\n",
       "    </tr>\n",
       "    <tr>\n",
       "      <td>ARG</td>\n",
       "      <td>Argentina</td>\n",
       "      <td>9.234410</td>\n",
       "      <td>0.958335</td>\n",
       "      <td>0.002252</td>\n",
       "    </tr>\n",
       "    <tr>\n",
       "      <td>ARM</td>\n",
       "      <td>Armenia</td>\n",
       "      <td>NaN</td>\n",
       "      <td>6.572087</td>\n",
       "      <td>0.015442</td>\n",
       "    </tr>\n",
       "    <tr>\n",
       "      <td>ATG</td>\n",
       "      <td>Antigua and Barbuda</td>\n",
       "      <td>NaN</td>\n",
       "      <td>0.983049</td>\n",
       "      <td>0.002310</td>\n",
       "    </tr>\n",
       "    <tr>\n",
       "      <td>AUS</td>\n",
       "      <td>Australia</td>\n",
       "      <td>NaN</td>\n",
       "      <td>1.791461</td>\n",
       "      <td>0.004209</td>\n",
       "    </tr>\n",
       "    <tr>\n",
       "      <td>AUT</td>\n",
       "      <td>Austria</td>\n",
       "      <td>10.068588</td>\n",
       "      <td>1.425074</td>\n",
       "      <td>0.003348</td>\n",
       "    </tr>\n",
       "    <tr>\n",
       "      <td>AZE</td>\n",
       "      <td>Azerbaijan</td>\n",
       "      <td>NaN</td>\n",
       "      <td>6.027167</td>\n",
       "      <td>0.014162</td>\n",
       "    </tr>\n",
       "    <tr>\n",
       "      <td>BDI</td>\n",
       "      <td>Burundi</td>\n",
       "      <td>6.321342</td>\n",
       "      <td>-1.308768</td>\n",
       "      <td>0.000000</td>\n",
       "    </tr>\n",
       "    <tr>\n",
       "      <td>BEL</td>\n",
       "      <td>Belgium</td>\n",
       "      <td>10.007673</td>\n",
       "      <td>1.365525</td>\n",
       "      <td>0.003209</td>\n",
       "    </tr>\n",
       "    <tr>\n",
       "      <td>BEN</td>\n",
       "      <td>Benin</td>\n",
       "      <td>7.289462</td>\n",
       "      <td>1.529336</td>\n",
       "      <td>0.003593</td>\n",
       "    </tr>\n",
       "    <tr>\n",
       "      <td>BFA</td>\n",
       "      <td>Burkina Faso</td>\n",
       "      <td>NaN</td>\n",
       "      <td>2.989845</td>\n",
       "      <td>0.007025</td>\n",
       "    </tr>\n",
       "    <tr>\n",
       "      <td>BGD</td>\n",
       "      <td>Bangladesh</td>\n",
       "      <td>NaN</td>\n",
       "      <td>4.215461</td>\n",
       "      <td>0.009905</td>\n",
       "    </tr>\n",
       "    <tr>\n",
       "      <td>BGR</td>\n",
       "      <td>Bulgaria</td>\n",
       "      <td>NaN</td>\n",
       "      <td>3.648291</td>\n",
       "      <td>0.008572</td>\n",
       "    </tr>\n",
       "    <tr>\n",
       "      <td>BHR</td>\n",
       "      <td>Bahrain</td>\n",
       "      <td>10.520070</td>\n",
       "      <td>-0.035761</td>\n",
       "      <td>0.000000</td>\n",
       "    </tr>\n",
       "    <tr>\n",
       "      <td>BHS</td>\n",
       "      <td>Bahamas, The</td>\n",
       "      <td>10.002663</td>\n",
       "      <td>0.150952</td>\n",
       "      <td>0.000355</td>\n",
       "    </tr>\n",
       "    <tr>\n",
       "      <td>BIH</td>\n",
       "      <td>Bosnia and Herzegovina</td>\n",
       "      <td>NaN</td>\n",
       "      <td>9.379546</td>\n",
       "      <td>0.022039</td>\n",
       "    </tr>\n",
       "    <tr>\n",
       "      <td>BLR</td>\n",
       "      <td>Belarus</td>\n",
       "      <td>8.302469</td>\n",
       "      <td>4.572420</td>\n",
       "      <td>0.010744</td>\n",
       "    </tr>\n",
       "  </tbody>\n",
       "</table>\n",
       "</div>"
      ],
      "text/plain": [
       "                                          pc_GDP_PPP  pc_GDP_growth    weight\n",
       "country_iso3_code country                                                    \n",
       "ABW               Aruba                    10.227798      -0.467633  0.000000\n",
       "AGO               Angola                         NaN       2.644252  0.006213\n",
       "ALB               Albania                        NaN       5.231749  0.012293\n",
       "ARE               United Arab Emirates     11.401524      -1.719834  0.000000\n",
       "ARG               Argentina                 9.234410       0.958335  0.002252\n",
       "ARM               Armenia                        NaN       6.572087  0.015442\n",
       "ATG               Antigua and Barbuda            NaN       0.983049  0.002310\n",
       "AUS               Australia                      NaN       1.791461  0.004209\n",
       "AUT               Austria                  10.068588       1.425074  0.003348\n",
       "AZE               Azerbaijan                     NaN       6.027167  0.014162\n",
       "BDI               Burundi                   6.321342      -1.308768  0.000000\n",
       "BEL               Belgium                  10.007673       1.365525  0.003209\n",
       "BEN               Benin                     7.289462       1.529336  0.003593\n",
       "BFA               Burkina Faso                   NaN       2.989845  0.007025\n",
       "BGD               Bangladesh                     NaN       4.215461  0.009905\n",
       "BGR               Bulgaria                       NaN       3.648291  0.008572\n",
       "BHR               Bahrain                  10.520070      -0.035761  0.000000\n",
       "BHS               Bahamas, The             10.002663       0.150952  0.000355\n",
       "BIH               Bosnia and Herzegovina         NaN       9.379546  0.022039\n",
       "BLR               Belarus                   8.302469       4.572420  0.010744"
      ]
     },
     "execution_count": 152,
     "metadata": {},
     "output_type": "execute_result"
    }
   ],
   "source": [
    "na_df_list[0].head(20)"
   ]
  },
  {
   "cell_type": "code",
   "execution_count": 153,
   "metadata": {},
   "outputs": [],
   "source": [
    "na_ols_rslts_dict = run_ols(na_df_list)"
   ]
  },
  {
   "cell_type": "code",
   "execution_count": 154,
   "metadata": {},
   "outputs": [],
   "source": [
    "na_betas_df = get_betas(na_ols_rslts_dict, scope = 'complete case')"
   ]
  },
  {
   "cell_type": "code",
   "execution_count": 155,
   "metadata": {},
   "outputs": [
    {
     "data": {
      "text/html": [
       "<div>\n",
       "<style scoped>\n",
       "    .dataframe tbody tr th:only-of-type {\n",
       "        vertical-align: middle;\n",
       "    }\n",
       "\n",
       "    .dataframe tbody tr th {\n",
       "        vertical-align: top;\n",
       "    }\n",
       "\n",
       "    .dataframe thead th {\n",
       "        text-align: right;\n",
       "    }\n",
       "</style>\n",
       "<table border=\"1\" class=\"dataframe\">\n",
       "  <thead>\n",
       "    <tr style=\"text-align: right;\">\n",
       "      <th></th>\n",
       "      <th>beta0</th>\n",
       "      <th>beta1</th>\n",
       "      <th>std0</th>\n",
       "      <th>std1</th>\n",
       "    </tr>\n",
       "    <tr>\n",
       "      <th>type</th>\n",
       "      <th></th>\n",
       "      <th></th>\n",
       "      <th></th>\n",
       "      <th></th>\n",
       "    </tr>\n",
       "  </thead>\n",
       "  <tbody>\n",
       "    <tr>\n",
       "      <td>x_on_y</td>\n",
       "      <td>8.749691</td>\n",
       "      <td>-0.115491</td>\n",
       "      <td>0.191289</td>\n",
       "      <td>0.097711</td>\n",
       "    </tr>\n",
       "    <tr>\n",
       "      <td>y_on_x</td>\n",
       "      <td>2.584533</td>\n",
       "      <td>-0.139719</td>\n",
       "      <td>0.998049</td>\n",
       "      <td>0.114935</td>\n",
       "    </tr>\n",
       "  </tbody>\n",
       "</table>\n",
       "</div>"
      ],
      "text/plain": [
       "           beta0     beta1      std0      std1\n",
       "type                                          \n",
       "x_on_y  8.749691 -0.115491  0.191289  0.097711\n",
       "y_on_x  2.584533 -0.139719  0.998049  0.114935"
      ]
     },
     "execution_count": 155,
     "metadata": {},
     "output_type": "execute_result"
    }
   ],
   "source": [
    "na_betas_df.groupby('type').mean()"
   ]
  },
  {
   "cell_type": "code",
   "execution_count": 156,
   "metadata": {},
   "outputs": [],
   "source": [
    "fs_ols_rslts_dict = run_ols([convergence_df])"
   ]
  },
  {
   "cell_type": "code",
   "execution_count": 157,
   "metadata": {},
   "outputs": [],
   "source": [
    "fs_betas_df = get_betas(fs_ols_rslts_dict, scope = 'full sample')"
   ]
  },
  {
   "cell_type": "code",
   "execution_count": 158,
   "metadata": {},
   "outputs": [
    {
     "data": {
      "text/html": [
       "<div>\n",
       "<style scoped>\n",
       "    .dataframe tbody tr th:only-of-type {\n",
       "        vertical-align: middle;\n",
       "    }\n",
       "\n",
       "    .dataframe tbody tr th {\n",
       "        vertical-align: top;\n",
       "    }\n",
       "\n",
       "    .dataframe thead th {\n",
       "        text-align: right;\n",
       "    }\n",
       "</style>\n",
       "<table border=\"1\" class=\"dataframe\">\n",
       "  <thead>\n",
       "    <tr style=\"text-align: right;\">\n",
       "      <th></th>\n",
       "      <th>scope</th>\n",
       "      <th>type</th>\n",
       "      <th>beta0</th>\n",
       "      <th>beta1</th>\n",
       "      <th>std0</th>\n",
       "      <th>std1</th>\n",
       "    </tr>\n",
       "  </thead>\n",
       "  <tbody>\n",
       "    <tr>\n",
       "      <td>0</td>\n",
       "      <td>full sample</td>\n",
       "      <td>x_on_y</td>\n",
       "      <td>8.861620</td>\n",
       "      <td>-0.175715</td>\n",
       "      <td>0.135471</td>\n",
       "      <td>0.044729</td>\n",
       "    </tr>\n",
       "    <tr>\n",
       "      <td>1</td>\n",
       "      <td>full sample</td>\n",
       "      <td>y_on_x</td>\n",
       "      <td>6.161547</td>\n",
       "      <td>-0.454048</td>\n",
       "      <td>0.986977</td>\n",
       "      <td>0.115580</td>\n",
       "    </tr>\n",
       "  </tbody>\n",
       "</table>\n",
       "</div>"
      ],
      "text/plain": [
       "         scope    type     beta0     beta1      std0      std1\n",
       "0  full sample  x_on_y  8.861620 -0.175715  0.135471  0.044729\n",
       "1  full sample  y_on_x  6.161547 -0.454048  0.986977  0.115580"
      ]
     },
     "execution_count": 158,
     "metadata": {},
     "output_type": "execute_result"
    }
   ],
   "source": [
    "fs_betas_df.head()"
   ]
  },
  {
   "cell_type": "code",
   "execution_count": 159,
   "metadata": {},
   "outputs": [],
   "source": [
    "imputed_df_list = impute_na(na_df_list, na_betas_df.loc[na_betas_df.type == 'x_on_y'])"
   ]
  },
  {
   "cell_type": "code",
   "execution_count": 160,
   "metadata": {},
   "outputs": [
    {
     "data": {
      "text/html": [
       "<div>\n",
       "<style scoped>\n",
       "    .dataframe tbody tr th:only-of-type {\n",
       "        vertical-align: middle;\n",
       "    }\n",
       "\n",
       "    .dataframe tbody tr th {\n",
       "        vertical-align: top;\n",
       "    }\n",
       "\n",
       "    .dataframe thead th {\n",
       "        text-align: right;\n",
       "    }\n",
       "</style>\n",
       "<table border=\"1\" class=\"dataframe\">\n",
       "  <thead>\n",
       "    <tr style=\"text-align: right;\">\n",
       "      <th></th>\n",
       "      <th></th>\n",
       "      <th>pc_GDP_PPP</th>\n",
       "      <th>pc_GDP_growth</th>\n",
       "      <th>weight</th>\n",
       "    </tr>\n",
       "    <tr>\n",
       "      <th>country_iso3_code</th>\n",
       "      <th>country</th>\n",
       "      <th></th>\n",
       "      <th></th>\n",
       "      <th></th>\n",
       "    </tr>\n",
       "  </thead>\n",
       "  <tbody>\n",
       "    <tr>\n",
       "      <td>ABW</td>\n",
       "      <td>Aruba</td>\n",
       "      <td>10.227798</td>\n",
       "      <td>-0.467633</td>\n",
       "      <td>0.000000</td>\n",
       "    </tr>\n",
       "    <tr>\n",
       "      <td>AGO</td>\n",
       "      <td>Angola</td>\n",
       "      <td>8.821863</td>\n",
       "      <td>2.644252</td>\n",
       "      <td>0.006213</td>\n",
       "    </tr>\n",
       "    <tr>\n",
       "      <td>ALB</td>\n",
       "      <td>Albania</td>\n",
       "      <td>8.715951</td>\n",
       "      <td>5.231749</td>\n",
       "      <td>0.012293</td>\n",
       "    </tr>\n",
       "    <tr>\n",
       "      <td>ARE</td>\n",
       "      <td>United Arab Emirates</td>\n",
       "      <td>11.401524</td>\n",
       "      <td>-1.719834</td>\n",
       "      <td>0.000000</td>\n",
       "    </tr>\n",
       "    <tr>\n",
       "      <td>ARG</td>\n",
       "      <td>Argentina</td>\n",
       "      <td>9.234410</td>\n",
       "      <td>0.958335</td>\n",
       "      <td>0.002252</td>\n",
       "    </tr>\n",
       "    <tr>\n",
       "      <td>ARM</td>\n",
       "      <td>Armenia</td>\n",
       "      <td>10.135339</td>\n",
       "      <td>6.572087</td>\n",
       "      <td>0.015442</td>\n",
       "    </tr>\n",
       "    <tr>\n",
       "      <td>ATG</td>\n",
       "      <td>Antigua and Barbuda</td>\n",
       "      <td>8.523110</td>\n",
       "      <td>0.983049</td>\n",
       "      <td>0.002310</td>\n",
       "    </tr>\n",
       "    <tr>\n",
       "      <td>AUS</td>\n",
       "      <td>Australia</td>\n",
       "      <td>9.030481</td>\n",
       "      <td>1.791461</td>\n",
       "      <td>0.004209</td>\n",
       "    </tr>\n",
       "    <tr>\n",
       "      <td>AUT</td>\n",
       "      <td>Austria</td>\n",
       "      <td>10.068588</td>\n",
       "      <td>1.425074</td>\n",
       "      <td>0.003348</td>\n",
       "    </tr>\n",
       "    <tr>\n",
       "      <td>AZE</td>\n",
       "      <td>Azerbaijan</td>\n",
       "      <td>9.780101</td>\n",
       "      <td>6.027167</td>\n",
       "      <td>0.014162</td>\n",
       "    </tr>\n",
       "    <tr>\n",
       "      <td>BDI</td>\n",
       "      <td>Burundi</td>\n",
       "      <td>6.321342</td>\n",
       "      <td>-1.308768</td>\n",
       "      <td>0.000000</td>\n",
       "    </tr>\n",
       "    <tr>\n",
       "      <td>BEL</td>\n",
       "      <td>Belgium</td>\n",
       "      <td>10.007673</td>\n",
       "      <td>1.365525</td>\n",
       "      <td>0.003209</td>\n",
       "    </tr>\n",
       "    <tr>\n",
       "      <td>BEN</td>\n",
       "      <td>Benin</td>\n",
       "      <td>7.289462</td>\n",
       "      <td>1.529336</td>\n",
       "      <td>0.003593</td>\n",
       "    </tr>\n",
       "    <tr>\n",
       "      <td>BFA</td>\n",
       "      <td>Burkina Faso</td>\n",
       "      <td>9.097665</td>\n",
       "      <td>2.989845</td>\n",
       "      <td>0.007025</td>\n",
       "    </tr>\n",
       "    <tr>\n",
       "      <td>BGD</td>\n",
       "      <td>Bangladesh</td>\n",
       "      <td>8.383607</td>\n",
       "      <td>4.215461</td>\n",
       "      <td>0.009905</td>\n",
       "    </tr>\n",
       "    <tr>\n",
       "      <td>BGR</td>\n",
       "      <td>Bulgaria</td>\n",
       "      <td>8.145163</td>\n",
       "      <td>3.648291</td>\n",
       "      <td>0.008572</td>\n",
       "    </tr>\n",
       "    <tr>\n",
       "      <td>BHR</td>\n",
       "      <td>Bahrain</td>\n",
       "      <td>10.520070</td>\n",
       "      <td>-0.035761</td>\n",
       "      <td>0.000000</td>\n",
       "    </tr>\n",
       "    <tr>\n",
       "      <td>BHS</td>\n",
       "      <td>Bahamas, The</td>\n",
       "      <td>10.002663</td>\n",
       "      <td>0.150952</td>\n",
       "      <td>0.000355</td>\n",
       "    </tr>\n",
       "    <tr>\n",
       "      <td>BIH</td>\n",
       "      <td>Bosnia and Herzegovina</td>\n",
       "      <td>9.274570</td>\n",
       "      <td>9.379546</td>\n",
       "      <td>0.022039</td>\n",
       "    </tr>\n",
       "    <tr>\n",
       "      <td>BLR</td>\n",
       "      <td>Belarus</td>\n",
       "      <td>8.302469</td>\n",
       "      <td>4.572420</td>\n",
       "      <td>0.010744</td>\n",
       "    </tr>\n",
       "  </tbody>\n",
       "</table>\n",
       "</div>"
      ],
      "text/plain": [
       "                                          pc_GDP_PPP  pc_GDP_growth    weight\n",
       "country_iso3_code country                                                    \n",
       "ABW               Aruba                    10.227798      -0.467633  0.000000\n",
       "AGO               Angola                    8.821863       2.644252  0.006213\n",
       "ALB               Albania                   8.715951       5.231749  0.012293\n",
       "ARE               United Arab Emirates     11.401524      -1.719834  0.000000\n",
       "ARG               Argentina                 9.234410       0.958335  0.002252\n",
       "ARM               Armenia                  10.135339       6.572087  0.015442\n",
       "ATG               Antigua and Barbuda       8.523110       0.983049  0.002310\n",
       "AUS               Australia                 9.030481       1.791461  0.004209\n",
       "AUT               Austria                  10.068588       1.425074  0.003348\n",
       "AZE               Azerbaijan                9.780101       6.027167  0.014162\n",
       "BDI               Burundi                   6.321342      -1.308768  0.000000\n",
       "BEL               Belgium                  10.007673       1.365525  0.003209\n",
       "BEN               Benin                     7.289462       1.529336  0.003593\n",
       "BFA               Burkina Faso              9.097665       2.989845  0.007025\n",
       "BGD               Bangladesh                8.383607       4.215461  0.009905\n",
       "BGR               Bulgaria                  8.145163       3.648291  0.008572\n",
       "BHR               Bahrain                  10.520070      -0.035761  0.000000\n",
       "BHS               Bahamas, The             10.002663       0.150952  0.000355\n",
       "BIH               Bosnia and Herzegovina    9.274570       9.379546  0.022039\n",
       "BLR               Belarus                   8.302469       4.572420  0.010744"
      ]
     },
     "execution_count": 160,
     "metadata": {},
     "output_type": "execute_result"
    }
   ],
   "source": [
    "imputed_df_list[0].head(20)"
   ]
  },
  {
   "cell_type": "code",
   "execution_count": 161,
   "metadata": {},
   "outputs": [
    {
     "data": {
      "text/html": [
       "<div>\n",
       "<style scoped>\n",
       "    .dataframe tbody tr th:only-of-type {\n",
       "        vertical-align: middle;\n",
       "    }\n",
       "\n",
       "    .dataframe tbody tr th {\n",
       "        vertical-align: top;\n",
       "    }\n",
       "\n",
       "    .dataframe thead th {\n",
       "        text-align: right;\n",
       "    }\n",
       "</style>\n",
       "<table border=\"1\" class=\"dataframe\">\n",
       "  <thead>\n",
       "    <tr style=\"text-align: right;\">\n",
       "      <th></th>\n",
       "      <th>beta0</th>\n",
       "      <th>beta1</th>\n",
       "      <th>std0</th>\n",
       "      <th>std1</th>\n",
       "    </tr>\n",
       "    <tr>\n",
       "      <th>type</th>\n",
       "      <th></th>\n",
       "      <th></th>\n",
       "      <th></th>\n",
       "      <th></th>\n",
       "    </tr>\n",
       "  </thead>\n",
       "  <tbody>\n",
       "    <tr>\n",
       "      <td>x_on_y</td>\n",
       "      <td>8.747686</td>\n",
       "      <td>-0.114333</td>\n",
       "      <td>0.110632</td>\n",
       "      <td>0.036528</td>\n",
       "    </tr>\n",
       "    <tr>\n",
       "      <td>y_on_x</td>\n",
       "      <td>6.034626</td>\n",
       "      <td>-0.439834</td>\n",
       "      <td>1.231865</td>\n",
       "      <td>0.144192</td>\n",
       "    </tr>\n",
       "  </tbody>\n",
       "</table>\n",
       "</div>"
      ],
      "text/plain": [
       "           beta0     beta1      std0      std1\n",
       "type                                          \n",
       "x_on_y  8.747686 -0.114333  0.110632  0.036528\n",
       "y_on_x  6.034626 -0.439834  1.231865  0.144192"
      ]
     },
     "execution_count": 161,
     "metadata": {},
     "output_type": "execute_result"
    }
   ],
   "source": [
    "is_ols_rslts_dict = run_ols(imputed_df_list)\n",
    "is_betas_df = get_betas(is_ols_rslts_dict, scope = 'imputed sample')\n",
    "is_betas_df.groupby('type').mean()"
   ]
  },
  {
   "cell_type": "code",
   "execution_count": 162,
   "metadata": {},
   "outputs": [],
   "source": [
    "betas_df = fs_betas_df.append(na_betas_df, ignore_index = True)\n",
    "betas_df = betas_df.append(is_betas_df, ignore_index = True)\n",
    "betas_df = betas_df.reset_index()"
   ]
  },
  {
   "cell_type": "code",
   "execution_count": 163,
   "metadata": {},
   "outputs": [
    {
     "data": {
      "text/html": [
       "<div>\n",
       "<style scoped>\n",
       "    .dataframe tbody tr th:only-of-type {\n",
       "        vertical-align: middle;\n",
       "    }\n",
       "\n",
       "    .dataframe tbody tr th {\n",
       "        vertical-align: top;\n",
       "    }\n",
       "\n",
       "    .dataframe thead th {\n",
       "        text-align: right;\n",
       "    }\n",
       "</style>\n",
       "<table border=\"1\" class=\"dataframe\">\n",
       "  <thead>\n",
       "    <tr style=\"text-align: right;\">\n",
       "      <th></th>\n",
       "      <th>beta1</th>\n",
       "      <th>std1</th>\n",
       "    </tr>\n",
       "    <tr>\n",
       "      <th>scope</th>\n",
       "      <th></th>\n",
       "      <th></th>\n",
       "    </tr>\n",
       "  </thead>\n",
       "  <tbody>\n",
       "    <tr>\n",
       "      <td>complete case</td>\n",
       "      <td>-0.139719</td>\n",
       "      <td>0.114935</td>\n",
       "    </tr>\n",
       "    <tr>\n",
       "      <td>full sample</td>\n",
       "      <td>-0.454048</td>\n",
       "      <td>0.115580</td>\n",
       "    </tr>\n",
       "    <tr>\n",
       "      <td>imputed sample</td>\n",
       "      <td>-0.439834</td>\n",
       "      <td>0.144192</td>\n",
       "    </tr>\n",
       "  </tbody>\n",
       "</table>\n",
       "</div>"
      ],
      "text/plain": [
       "                   beta1      std1\n",
       "scope                             \n",
       "complete case  -0.139719  0.114935\n",
       "full sample    -0.454048  0.115580\n",
       "imputed sample -0.439834  0.144192"
      ]
     },
     "execution_count": 163,
     "metadata": {},
     "output_type": "execute_result"
    }
   ],
   "source": [
    "betas_df.loc[betas_df.type == 'y_on_x'].groupby('scope').mean()[['beta1', 'std1']]"
   ]
  },
  {
   "cell_type": "code",
   "execution_count": null,
   "metadata": {},
   "outputs": [],
   "source": []
  }
 ],
 "metadata": {
  "kernelspec": {
   "display_name": "Python 3",
   "language": "python",
   "name": "python3"
  },
  "language_info": {
   "codemirror_mode": {
    "name": "ipython",
    "version": 3
   },
   "file_extension": ".py",
   "mimetype": "text/x-python",
   "name": "python",
   "nbconvert_exporter": "python",
   "pygments_lexer": "ipython3",
   "version": "3.7.4"
  }
 },
 "nbformat": 4,
 "nbformat_minor": 4
}
