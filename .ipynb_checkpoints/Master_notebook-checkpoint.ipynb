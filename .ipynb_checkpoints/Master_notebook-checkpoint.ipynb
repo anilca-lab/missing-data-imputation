{
 "cells": [
  {
   "cell_type": "markdown",
   "metadata": {},
   "source": [
    "\n",
    "# Imputing Missing Values"
   ]
  },
  {
   "cell_type": "markdown",
   "metadata": {},
   "source": [
    "## Description\n",
    "\n",
    "Proper handling of missing data is crucial to deriving reliable conclusions from an analysis, particularly when the underlying process is not completely random. The following three examples illustrate these critical cases:\n",
    "\n",
    "* A survey-based earnings series may have missing values because high-income respondents do not want to reveal their earnings. \n",
    "* Patients may be more likely to opt out of undertaking a medical treatment when the treatment causes discomfort. \n",
    "* A blood pressure data series may have missing values for young patients who have no cardiovascular diseases. \n",
    "\n",
    "This analysis focuses on one of these critical cases illustrated by the blood pressure example above. This case is called \"missingness at random\", a confusing name as it does not sound much different from the \"missingness completely at random\" case. But, they are different. When data are missing at random, the probability of missingness depends on the available information. The following analysis examines if a random regression approach can be used to impute the missing data in these cases (for a comprehensive treatment of the subject, please refer to Gelman and Hill).  \n",
    "\n",
    "The analysis uses an unconditional income convergence model for its simplicity. In this model, growth in a country's incomes is explained by the country's initial income level, adjusted for cross-country price differentials. The expectation is that countries that start off from a relatively low income level grow faster and catch up with the rest. The \"missingness at random\" mechanism is implemented by setting half of the values in the independent variable, PPP adjusted per capita GDP series, to missing ."
   ]
  },
  {
   "cell_type": "markdown",
   "metadata": {},
   "source": [
    "## Data Preparation\n",
    "\n"
   ]
  },
  {
   "cell_type": "markdown",
   "metadata": {},
   "source": [
    "The data used in the analysis are from the World Development Indicators database, downloaded through the API. To limit the analysis the countries and exclude the aggregates, the UN country code list is used as a filter."
   ]
  },
  {
   "cell_type": "code",
   "execution_count": 146,
   "metadata": {},
   "outputs": [],
   "source": [
    "import numpy as np\n",
    "import pandas as pd\n",
    "import matplotlib.pyplot as plt\n",
    "import seaborn as sns\n",
    "import requests\n",
    "from scipy.stats import gmean\n",
    "import numpy as np"
   ]
  },
  {
   "cell_type": "code",
   "execution_count": 2,
   "metadata": {},
   "outputs": [],
   "source": [
    "url = 'http://api.worldbank.org/v2/country/all/indicator'\n",
    "indicator_list = ['NY.GDP.PCAP.KD.ZG',\n",
    "                  'NY.GDP.PCAP.PP.CD']\n",
    "parameters = {'date': '1989:2018',\n",
    "              'footnote': 'n',\n",
    "              'format': 'json',\n",
    "              'per_page': 7920}\n",
    "results_list = []\n",
    "for indicator in indicator_list:\n",
    "    results = requests.get(f'{url}/{indicator}', params = parameters)\n",
    "    if results.status_code == 200:\n",
    "        results_list.append(results.json())\n",
    "    else:\n",
    "        print('Failed request')"
   ]
  },
  {
   "cell_type": "code",
   "execution_count": 3,
   "metadata": {},
   "outputs": [],
   "source": [
    "%run data_prep.py"
   ]
  },
  {
   "cell_type": "code",
   "execution_count": 41,
   "metadata": {},
   "outputs": [],
   "source": [
    "df = flatten_wb_api_response(results_list)"
   ]
  },
  {
   "cell_type": "code",
   "execution_count": null,
   "metadata": {},
   "outputs": [],
   "source": [
    "df = clean_df(df)"
   ]
  },
  {
   "cell_type": "markdown",
   "metadata": {},
   "source": [
    "The initial per capita GDP (PPP adjusted) is a 3-year (1994-96) average."
   ]
  },
  {
   "cell_type": "code",
   "execution_count": 75,
   "metadata": {},
   "outputs": [
    {
     "data": {
      "text/html": [
       "<div>\n",
       "<style scoped>\n",
       "    .dataframe tbody tr th:only-of-type {\n",
       "        vertical-align: middle;\n",
       "    }\n",
       "\n",
       "    .dataframe tbody tr th {\n",
       "        vertical-align: top;\n",
       "    }\n",
       "\n",
       "    .dataframe thead th {\n",
       "        text-align: right;\n",
       "    }\n",
       "</style>\n",
       "<table border=\"1\" class=\"dataframe\">\n",
       "  <thead>\n",
       "    <tr style=\"text-align: right;\">\n",
       "      <th>indicator</th>\n",
       "      <th>country_iso3_code</th>\n",
       "      <th>country</th>\n",
       "      <th>year</th>\n",
       "      <th>pc_GDP_growth</th>\n",
       "      <th>pc_GDP_PPP</th>\n",
       "    </tr>\n",
       "  </thead>\n",
       "  <tbody>\n",
       "    <tr>\n",
       "      <td>5</td>\n",
       "      <td>ABW</td>\n",
       "      <td>Aruba</td>\n",
       "      <td>1994</td>\n",
       "      <td>2.284430</td>\n",
       "      <td>27714.716606</td>\n",
       "    </tr>\n",
       "    <tr>\n",
       "      <td>6</td>\n",
       "      <td>ABW</td>\n",
       "      <td>Aruba</td>\n",
       "      <td>1995</td>\n",
       "      <td>-2.079505</td>\n",
       "      <td>27707.433894</td>\n",
       "    </tr>\n",
       "    <tr>\n",
       "      <td>7</td>\n",
       "      <td>ABW</td>\n",
       "      <td>Aruba</td>\n",
       "      <td>1996</td>\n",
       "      <td>-2.311930</td>\n",
       "      <td>27562.459828</td>\n",
       "    </tr>\n",
       "    <tr>\n",
       "      <td>8</td>\n",
       "      <td>ABW</td>\n",
       "      <td>Aruba</td>\n",
       "      <td>1997</td>\n",
       "      <td>4.226981</td>\n",
       "      <td>29222.894599</td>\n",
       "    </tr>\n",
       "    <tr>\n",
       "      <td>9</td>\n",
       "      <td>ABW</td>\n",
       "      <td>Aruba</td>\n",
       "      <td>1998</td>\n",
       "      <td>-0.141877</td>\n",
       "      <td>29509.877023</td>\n",
       "    </tr>\n",
       "  </tbody>\n",
       "</table>\n",
       "</div>"
      ],
      "text/plain": [
       "indicator country_iso3_code country  year  pc_GDP_growth    pc_GDP_PPP\n",
       "5                       ABW   Aruba  1994       2.284430  27714.716606\n",
       "6                       ABW   Aruba  1995      -2.079505  27707.433894\n",
       "7                       ABW   Aruba  1996      -2.311930  27562.459828\n",
       "8                       ABW   Aruba  1997       4.226981  29222.894599\n",
       "9                       ABW   Aruba  1998      -0.141877  29509.877023"
      ]
     },
     "execution_count": 75,
     "metadata": {},
     "output_type": "execute_result"
    }
   ],
   "source": [
    "df.head()"
   ]
  },
  {
   "cell_type": "code",
   "execution_count": 77,
   "metadata": {},
   "outputs": [],
   "source": [
    "pc_GDP_PPP_df = df.loc[(df.year >= 1994) & (df.year <= 1996)]\n",
    "pc_GDP_PPP_df = pc_GDP_PPP_df.groupby(['country_iso3_code', 'country']).mean()[['pc_GDP_PPP']]"
   ]
  },
  {
   "cell_type": "markdown",
   "metadata": {},
   "source": [
    "Geometric average of the real GDP growth rates is computed for each country and for the period 1995-2018."
   ]
  },
  {
   "cell_type": "code",
   "execution_count": 139,
   "metadata": {},
   "outputs": [],
   "source": [
    "pc_GDP_growth_df = df.loc[(df.year >= 1995) & (df.year <= 2018)]"
   ]
  },
  {
   "cell_type": "code",
   "execution_count": 140,
   "metadata": {},
   "outputs": [
    {
     "name": "stderr",
     "output_type": "stream",
     "text": [
      "/opt/anaconda3/lib/python3.7/site-packages/ipykernel_launcher.py:1: SettingWithCopyWarning: \n",
      "A value is trying to be set on a copy of a slice from a DataFrame.\n",
      "Try using .loc[row_indexer,col_indexer] = value instead\n",
      "\n",
      "See the caveats in the documentation: http://pandas.pydata.org/pandas-docs/stable/user_guide/indexing.html#returning-a-view-versus-a-copy\n",
      "  \"\"\"Entry point for launching an IPython kernel.\n"
     ]
    }
   ],
   "source": [
    "pc_GDP_growth_df['pc_GDP_growth'] = (pc_GDP_growth_df.pc_GDP_growth + 100) / 100"
   ]
  },
  {
   "cell_type": "code",
   "execution_count": 141,
   "metadata": {},
   "outputs": [],
   "source": [
    "pc_GDP_growth_df = pc_GDP_growth_df.groupby(['country_iso3_code', 'country'])"
   ]
  },
  {
   "cell_type": "code",
   "execution_count": 142,
   "metadata": {
    "scrolled": true
   },
   "outputs": [],
   "source": [
    "pc_GDP_growth_df = pc_GDP_growth_df.pc_GDP_growth.apply(gmean)"
   ]
  },
  {
   "cell_type": "code",
   "execution_count": 160,
   "metadata": {},
   "outputs": [],
   "source": [
    "convergence_df = pc_GDP_PPP_df.merge(pc_GDP_growth_df, left_index = True, right_index = True)"
   ]
  },
  {
   "cell_type": "code",
   "execution_count": 161,
   "metadata": {},
   "outputs": [],
   "source": [
    "convergence_df['pc_GDP_PPP'] = np.log(convergence_df.pc_GDP_PPP)"
   ]
  },
  {
   "cell_type": "code",
   "execution_count": 149,
   "metadata": {},
   "outputs": [
    {
     "data": {
      "text/html": [
       "<div>\n",
       "<style scoped>\n",
       "    .dataframe tbody tr th:only-of-type {\n",
       "        vertical-align: middle;\n",
       "    }\n",
       "\n",
       "    .dataframe tbody tr th {\n",
       "        vertical-align: top;\n",
       "    }\n",
       "\n",
       "    .dataframe thead th {\n",
       "        text-align: right;\n",
       "    }\n",
       "</style>\n",
       "<table border=\"1\" class=\"dataframe\">\n",
       "  <thead>\n",
       "    <tr style=\"text-align: right;\">\n",
       "      <th></th>\n",
       "      <th></th>\n",
       "      <th>pc_GDP_PPP</th>\n",
       "      <th>pc_GDP_growth</th>\n",
       "    </tr>\n",
       "    <tr>\n",
       "      <th>country_iso3_code</th>\n",
       "      <th>country</th>\n",
       "      <th></th>\n",
       "      <th></th>\n",
       "    </tr>\n",
       "  </thead>\n",
       "  <tbody>\n",
       "    <tr>\n",
       "      <td>ABW</td>\n",
       "      <td>Aruba</td>\n",
       "      <td>10.227798</td>\n",
       "      <td>0.995324</td>\n",
       "    </tr>\n",
       "    <tr>\n",
       "      <td>AGO</td>\n",
       "      <td>Angola</td>\n",
       "      <td>7.878085</td>\n",
       "      <td>1.026443</td>\n",
       "    </tr>\n",
       "    <tr>\n",
       "      <td>ALB</td>\n",
       "      <td>Albania</td>\n",
       "      <td>7.880279</td>\n",
       "      <td>1.052317</td>\n",
       "    </tr>\n",
       "    <tr>\n",
       "      <td>ARE</td>\n",
       "      <td>United Arab Emirates</td>\n",
       "      <td>11.401524</td>\n",
       "      <td>0.982802</td>\n",
       "    </tr>\n",
       "    <tr>\n",
       "      <td>ARG</td>\n",
       "      <td>Argentina</td>\n",
       "      <td>9.234410</td>\n",
       "      <td>1.009583</td>\n",
       "    </tr>\n",
       "  </tbody>\n",
       "</table>\n",
       "</div>"
      ],
      "text/plain": [
       "                                        pc_GDP_PPP  pc_GDP_growth\n",
       "country_iso3_code country                                        \n",
       "ABW               Aruba                  10.227798       0.995324\n",
       "AGO               Angola                  7.878085       1.026443\n",
       "ALB               Albania                 7.880279       1.052317\n",
       "ARE               United Arab Emirates   11.401524       0.982802\n",
       "ARG               Argentina               9.234410       1.009583"
      ]
     },
     "execution_count": 149,
     "metadata": {},
     "output_type": "execute_result"
    }
   ],
   "source": [
    "convergence_df.head()"
   ]
  },
  {
   "cell_type": "markdown",
   "metadata": {},
   "source": [
    "## Analysis"
   ]
  },
  {
   "cell_type": "code",
   "execution_count": 162,
   "metadata": {},
   "outputs": [],
   "source": [
    "convergence_df['weight'] = convergence_df.pc_GDP_growth / convergence_df.pc_GDP_growth.sum()"
   ]
  },
  {
   "cell_type": "code",
   "execution_count": 163,
   "metadata": {},
   "outputs": [
    {
     "data": {
      "text/plain": [
       "(0.005, 0.007)"
      ]
     },
     "execution_count": 163,
     "metadata": {},
     "output_type": "execute_result"
    },
    {
     "data": {
      "image/png": "[encoded data removed]",
      "text/plain": [
       "<Figure size 432x288 with 1 Axes>"
      ]
     },
     "metadata": {
      "needs_background": "light"
     },
     "output_type": "display_data"
    }
   ],
   "source": [
    "ax1 = sns.scatterplot(x = 'pc_GDP_growth', y = 'weight', data = convergence_df)\n",
    "ax1.set_ylim([0.005, 0.007])"
   ]
  },
  {
   "cell_type": "code",
   "execution_count": 164,
   "metadata": {},
   "outputs": [
    {
     "data": {
      "text/plain": [
       "1.0"
      ]
     },
     "execution_count": 164,
     "metadata": {},
     "output_type": "execute_result"
    }
   ],
   "source": [
    "convergence_df.weight.sum()"
   ]
  },
  {
   "cell_type": "code",
   "execution_count": null,
   "metadata": {},
   "outputs": [],
   "source": []
  }
 ],
 "metadata": {
  "kernelspec": {
   "display_name": "Python 3",
   "language": "python",
   "name": "python3"
  },
  "language_info": {
   "codemirror_mode": {
    "name": "ipython",
    "version": 3
   },
   "file_extension": ".py",
   "mimetype": "text/x-python",
   "name": "python",
   "nbconvert_exporter": "python",
   "pygments_lexer": "ipython3",
   "version": "3.7.4"
  }
 },
 "nbformat": 4,
 "nbformat_minor": 4
}
