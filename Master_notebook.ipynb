{
 "cells": [
  {
   "cell_type": "markdown",
   "metadata": {},
   "source": [
    "\n",
    "# Imputing Missing Values"
   ]
  },
  {
   "cell_type": "markdown",
   "metadata": {},
   "source": [
    "## Description\n",
    "\n",
    "A model is only as good as the data used to build it: garbage in, garbage out. This is why the entire process of proper data preparation and more specifically, handling of missing data is crucial. In the age of \"big data\", simply discarding missing data and focusing on complete cases may look like a no-brainer. But, more often than not, the process generating the missingness is not completely random. Therefore, limiting an analysis to complete cases is likely to yield biased results.\n",
    "\n",
    "Complete randomness aside, there are three types of missingness generating mechanisms:\n",
    "\n",
    "1. The cases where the probability of missingness depends on available information are called missingness at random. An example would be blood pressure data having missing values for young patients who have no cardiovascular disease.\n",
    "2. There are cases where the probability of missingness depends on information that is unobserved. For instance, when a medical treatment causes discomfort, patients may be more likely to opt out of undertaking this treatment.\n",
    "3. Lastly, the probability of missingness may be determined by the values of the variable in question itself. An example would be a survey-based earnings series having missing values because respondents with higher earnings do not want to reveal them.\n",
    "\n",
    "Any decision on how to handle missing data depends on the type of process generating the missingness. The analysis below takes a particular case, missingness at random, and examines the bias introduced by this process and if a random regression approach can be used to address this bias. To this end, the analysis uses an unconditional income convergence model for its simplicity. In this model, a country's income growth is explained by its initial income level, adjusted for cross-country price differentials. "
   ]
  },
  {
   "cell_type": "markdown",
   "metadata": {},
   "source": [
    "## Data Preparation\n",
    "\n"
   ]
  },
  {
   "cell_type": "markdown",
   "metadata": {},
   "source": [
    "The data used in the analysis are from the World Development Indicators database, downloaded through the API. The dataset covers 180 countries. "
   ]
  },
  {
   "cell_type": "code",
   "execution_count": 50,
   "metadata": {},
   "outputs": [],
   "source": [
    "import numpy as np\n",
    "import pandas as pd\n",
    "import matplotlib.pyplot as plt\n",
    "import seaborn as sns\n",
    "import requests\n",
    "from scipy.stats import gmean\n",
    "import numpy as np\n",
    "import statsmodels.api as sm"
   ]
  },
  {
   "cell_type": "code",
   "execution_count": 2,
   "metadata": {},
   "outputs": [],
   "source": [
    "url = 'http://api.worldbank.org/v2/country/all/indicator'\n",
    "indicator_list = ['NY.GDP.PCAP.KD.ZG',\n",
    "                  'NY.GDP.PCAP.PP.CD']\n",
    "parameters = {'date': '1989:2018',\n",
    "              'footnote': 'n',\n",
    "              'format': 'json',\n",
    "              'per_page': 7920}\n",
    "results_list = []\n",
    "for indicator in indicator_list:\n",
    "    results = requests.get(f'{url}/{indicator}', params = parameters)\n",
    "    if results.status_code == 200:\n",
    "        results_list.append(results.json())\n",
    "    else:\n",
    "        print('Failed request')"
   ]
  },
  {
   "cell_type": "code",
   "execution_count": 4,
   "metadata": {},
   "outputs": [],
   "source": [
    "%run data_prep.py"
   ]
  },
  {
   "cell_type": "code",
   "execution_count": 5,
   "metadata": {},
   "outputs": [],
   "source": [
    "df = flatten_wb_api_response(results_list)"
   ]
  },
  {
   "cell_type": "markdown",
   "metadata": {},
   "source": [
    "To limit the analysis the countries and exclude the aggregates, the UN country code list is used as a filter. The period of analysis is 1994-2018."
   ]
  },
  {
   "cell_type": "code",
   "execution_count": 7,
   "metadata": {},
   "outputs": [],
   "source": [
    "df = clean_data(df)"
   ]
  },
  {
   "cell_type": "code",
   "execution_count": 9,
   "metadata": {},
   "outputs": [
    {
     "data": {
      "text/html": [
       "<div>\n",
       "<style scoped>\n",
       "    .dataframe tbody tr th:only-of-type {\n",
       "        vertical-align: middle;\n",
       "    }\n",
       "\n",
       "    .dataframe tbody tr th {\n",
       "        vertical-align: top;\n",
       "    }\n",
       "\n",
       "    .dataframe thead th {\n",
       "        text-align: right;\n",
       "    }\n",
       "</style>\n",
       "<table border=\"1\" class=\"dataframe\">\n",
       "  <thead>\n",
       "    <tr style=\"text-align: right;\">\n",
       "      <th>indicator</th>\n",
       "      <th>country_iso3_code</th>\n",
       "      <th>country</th>\n",
       "      <th>year</th>\n",
       "      <th>pc_GDP_growth</th>\n",
       "      <th>pc_GDP_PPP</th>\n",
       "    </tr>\n",
       "  </thead>\n",
       "  <tbody>\n",
       "    <tr>\n",
       "      <td>5</td>\n",
       "      <td>ABW</td>\n",
       "      <td>Aruba</td>\n",
       "      <td>1994</td>\n",
       "      <td>2.284430</td>\n",
       "      <td>27714.716606</td>\n",
       "    </tr>\n",
       "    <tr>\n",
       "      <td>6</td>\n",
       "      <td>ABW</td>\n",
       "      <td>Aruba</td>\n",
       "      <td>1995</td>\n",
       "      <td>-2.079505</td>\n",
       "      <td>27707.433894</td>\n",
       "    </tr>\n",
       "    <tr>\n",
       "      <td>7</td>\n",
       "      <td>ABW</td>\n",
       "      <td>Aruba</td>\n",
       "      <td>1996</td>\n",
       "      <td>-2.311930</td>\n",
       "      <td>27562.459828</td>\n",
       "    </tr>\n",
       "    <tr>\n",
       "      <td>8</td>\n",
       "      <td>ABW</td>\n",
       "      <td>Aruba</td>\n",
       "      <td>1997</td>\n",
       "      <td>4.226981</td>\n",
       "      <td>29222.894599</td>\n",
       "    </tr>\n",
       "    <tr>\n",
       "      <td>9</td>\n",
       "      <td>ABW</td>\n",
       "      <td>Aruba</td>\n",
       "      <td>1998</td>\n",
       "      <td>-0.141877</td>\n",
       "      <td>29509.877023</td>\n",
       "    </tr>\n",
       "  </tbody>\n",
       "</table>\n",
       "</div>"
      ],
      "text/plain": [
       "indicator country_iso3_code country  year  pc_GDP_growth    pc_GDP_PPP\n",
       "5                       ABW   Aruba  1994       2.284430  27714.716606\n",
       "6                       ABW   Aruba  1995      -2.079505  27707.433894\n",
       "7                       ABW   Aruba  1996      -2.311930  27562.459828\n",
       "8                       ABW   Aruba  1997       4.226981  29222.894599\n",
       "9                       ABW   Aruba  1998      -0.141877  29509.877023"
      ]
     },
     "execution_count": 9,
     "metadata": {},
     "output_type": "execute_result"
    }
   ],
   "source": [
    "df.head()"
   ]
  },
  {
   "cell_type": "markdown",
   "metadata": {},
   "source": [
    "The initial per capita GDP (PPP adjusted) is a 3-year (1994-96) average."
   ]
  },
  {
   "cell_type": "code",
   "execution_count": 18,
   "metadata": {},
   "outputs": [],
   "source": [
    "pc_GDP_PPP_df = df.loc[(df.year >= 1994) & (df.year <= 1996)]\n",
    "pc_GDP_PPP_df = pc_GDP_PPP_df.groupby(['country_iso3_code', 'country']).mean()[['pc_GDP_PPP']]"
   ]
  },
  {
   "cell_type": "markdown",
   "metadata": {},
   "source": [
    "Geometric average of the real GDP growth rates is computed for each country and for the period 1995-2018."
   ]
  },
  {
   "cell_type": "code",
   "execution_count": 13,
   "metadata": {},
   "outputs": [],
   "source": [
    "pc_GDP_growth_df = df.loc[(df.year >= 1995) & (df.year <= 2018)]"
   ]
  },
  {
   "cell_type": "code",
   "execution_count": 14,
   "metadata": {},
   "outputs": [
    {
     "name": "stderr",
     "output_type": "stream",
     "text": [
      "/opt/anaconda3/lib/python3.7/site-packages/ipykernel_launcher.py:1: SettingWithCopyWarning: \n",
      "A value is trying to be set on a copy of a slice from a DataFrame.\n",
      "Try using .loc[row_indexer,col_indexer] = value instead\n",
      "\n",
      "See the caveats in the documentation: http://pandas.pydata.org/pandas-docs/stable/user_guide/indexing.html#returning-a-view-versus-a-copy\n",
      "  \"\"\"Entry point for launching an IPython kernel.\n"
     ]
    }
   ],
   "source": [
    "pc_GDP_growth_df['pc_GDP_growth'] = (pc_GDP_growth_df.pc_GDP_growth + 100) / 100"
   ]
  },
  {
   "cell_type": "code",
   "execution_count": 15,
   "metadata": {},
   "outputs": [],
   "source": [
    "pc_GDP_growth_df = pc_GDP_growth_df.groupby(['country_iso3_code', 'country'])"
   ]
  },
  {
   "cell_type": "code",
   "execution_count": 16,
   "metadata": {
    "scrolled": true
   },
   "outputs": [],
   "source": [
    "pc_GDP_growth_df = pc_GDP_growth_df.pc_GDP_growth.apply(gmean)"
   ]
  },
  {
   "cell_type": "code",
   "execution_count": 19,
   "metadata": {},
   "outputs": [],
   "source": [
    "convergence_df = pc_GDP_PPP_df.merge(pc_GDP_growth_df, left_index = True, right_index = True)"
   ]
  },
  {
   "cell_type": "code",
   "execution_count": 20,
   "metadata": {},
   "outputs": [],
   "source": [
    "convergence_df['pc_GDP_PPP'] = np.log(convergence_df.pc_GDP_PPP)"
   ]
  },
  {
   "cell_type": "code",
   "execution_count": 21,
   "metadata": {},
   "outputs": [
    {
     "data": {
      "text/html": [
       "<div>\n",
       "<style scoped>\n",
       "    .dataframe tbody tr th:only-of-type {\n",
       "        vertical-align: middle;\n",
       "    }\n",
       "\n",
       "    .dataframe tbody tr th {\n",
       "        vertical-align: top;\n",
       "    }\n",
       "\n",
       "    .dataframe thead th {\n",
       "        text-align: right;\n",
       "    }\n",
       "</style>\n",
       "<table border=\"1\" class=\"dataframe\">\n",
       "  <thead>\n",
       "    <tr style=\"text-align: right;\">\n",
       "      <th></th>\n",
       "      <th></th>\n",
       "      <th>pc_GDP_PPP</th>\n",
       "      <th>pc_GDP_growth</th>\n",
       "    </tr>\n",
       "    <tr>\n",
       "      <th>country_iso3_code</th>\n",
       "      <th>country</th>\n",
       "      <th></th>\n",
       "      <th></th>\n",
       "    </tr>\n",
       "  </thead>\n",
       "  <tbody>\n",
       "    <tr>\n",
       "      <td>ABW</td>\n",
       "      <td>Aruba</td>\n",
       "      <td>10.227798</td>\n",
       "      <td>0.995324</td>\n",
       "    </tr>\n",
       "    <tr>\n",
       "      <td>AGO</td>\n",
       "      <td>Angola</td>\n",
       "      <td>7.878085</td>\n",
       "      <td>1.026443</td>\n",
       "    </tr>\n",
       "    <tr>\n",
       "      <td>ALB</td>\n",
       "      <td>Albania</td>\n",
       "      <td>7.880279</td>\n",
       "      <td>1.052317</td>\n",
       "    </tr>\n",
       "    <tr>\n",
       "      <td>ARE</td>\n",
       "      <td>United Arab Emirates</td>\n",
       "      <td>11.401524</td>\n",
       "      <td>0.982802</td>\n",
       "    </tr>\n",
       "    <tr>\n",
       "      <td>ARG</td>\n",
       "      <td>Argentina</td>\n",
       "      <td>9.234410</td>\n",
       "      <td>1.009583</td>\n",
       "    </tr>\n",
       "  </tbody>\n",
       "</table>\n",
       "</div>"
      ],
      "text/plain": [
       "                                        pc_GDP_PPP  pc_GDP_growth\n",
       "country_iso3_code country                                        \n",
       "ABW               Aruba                  10.227798       0.995324\n",
       "AGO               Angola                  7.878085       1.026443\n",
       "ALB               Albania                 7.880279       1.052317\n",
       "ARE               United Arab Emirates   11.401524       0.982802\n",
       "ARG               Argentina               9.234410       1.009583"
      ]
     },
     "execution_count": 21,
     "metadata": {},
     "output_type": "execute_result"
    }
   ],
   "source": [
    "convergence_df.head()"
   ]
  },
  {
   "cell_type": "markdown",
   "metadata": {},
   "source": [
    "## Analysis"
   ]
  },
  {
   "cell_type": "code",
   "execution_count": 22,
   "metadata": {},
   "outputs": [],
   "source": [
    "convergence_df['weight'] = convergence_df.pc_GDP_growth / convergence_df.pc_GDP_growth.sum()"
   ]
  },
  {
   "cell_type": "code",
   "execution_count": 23,
   "metadata": {},
   "outputs": [
    {
     "data": {
      "text/plain": [
       "(0.005, 0.007)"
      ]
     },
     "execution_count": 23,
     "metadata": {},
     "output_type": "execute_result"
    },
    {
     "data": {
      "image/png": "[encoded data removed]",
      "text/plain": [
       "<Figure size 432x288 with 1 Axes>"
      ]
     },
     "metadata": {
      "needs_background": "light"
     },
     "output_type": "display_data"
    }
   ],
   "source": [
    "ax1 = sns.scatterplot(x = 'pc_GDP_growth', y = 'weight', data = convergence_df)\n",
    "ax1.set_ylim([0.005, 0.007])"
   ]
  },
  {
   "cell_type": "code",
   "execution_count": 24,
   "metadata": {},
   "outputs": [
    {
     "data": {
      "text/plain": [
       "1.0"
      ]
     },
     "execution_count": 24,
     "metadata": {},
     "output_type": "execute_result"
    }
   ],
   "source": [
    "convergence_df.weight.sum()"
   ]
  },
  {
   "cell_type": "markdown",
   "metadata": {},
   "source": [
    "### Creating missing values"
   ]
  },
  {
   "cell_type": "code",
   "execution_count": 34,
   "metadata": {},
   "outputs": [],
   "source": [
    "np.random.seed(seed = 12345)"
   ]
  },
  {
   "cell_type": "code",
   "execution_count": 35,
   "metadata": {},
   "outputs": [],
   "source": [
    "na_df = convergence_df.copy()\n",
    "na_df.loc[na_df.sample(frac = 0.5, replace = False, weights = 'weight').index, 'pc_GDP_PPP'] = np.nan "
   ]
  },
  {
   "cell_type": "code",
   "execution_count": 62,
   "metadata": {},
   "outputs": [
    {
     "data": {
      "text/html": [
       "<div>\n",
       "<style scoped>\n",
       "    .dataframe tbody tr th:only-of-type {\n",
       "        vertical-align: middle;\n",
       "    }\n",
       "\n",
       "    .dataframe tbody tr th {\n",
       "        vertical-align: top;\n",
       "    }\n",
       "\n",
       "    .dataframe thead th {\n",
       "        text-align: right;\n",
       "    }\n",
       "</style>\n",
       "<table border=\"1\" class=\"dataframe\">\n",
       "  <thead>\n",
       "    <tr style=\"text-align: right;\">\n",
       "      <th></th>\n",
       "      <th></th>\n",
       "      <th>pc_GDP_PPP</th>\n",
       "      <th>pc_GDP_growth</th>\n",
       "      <th>weight</th>\n",
       "    </tr>\n",
       "    <tr>\n",
       "      <th>country_iso3_code</th>\n",
       "      <th>country</th>\n",
       "      <th></th>\n",
       "      <th></th>\n",
       "      <th></th>\n",
       "    </tr>\n",
       "  </thead>\n",
       "  <tbody>\n",
       "    <tr>\n",
       "      <td>ABW</td>\n",
       "      <td>Aruba</td>\n",
       "      <td>10.227798</td>\n",
       "      <td>0.995324</td>\n",
       "      <td>0.005404</td>\n",
       "    </tr>\n",
       "    <tr>\n",
       "      <td>AGO</td>\n",
       "      <td>Angola</td>\n",
       "      <td>NaN</td>\n",
       "      <td>1.026443</td>\n",
       "      <td>0.005573</td>\n",
       "    </tr>\n",
       "    <tr>\n",
       "      <td>ALB</td>\n",
       "      <td>Albania</td>\n",
       "      <td>7.880279</td>\n",
       "      <td>1.052317</td>\n",
       "      <td>0.005713</td>\n",
       "    </tr>\n",
       "    <tr>\n",
       "      <td>ARE</td>\n",
       "      <td>United Arab Emirates</td>\n",
       "      <td>11.401524</td>\n",
       "      <td>0.982802</td>\n",
       "      <td>0.005336</td>\n",
       "    </tr>\n",
       "    <tr>\n",
       "      <td>ARG</td>\n",
       "      <td>Argentina</td>\n",
       "      <td>NaN</td>\n",
       "      <td>1.009583</td>\n",
       "      <td>0.005481</td>\n",
       "    </tr>\n",
       "  </tbody>\n",
       "</table>\n",
       "</div>"
      ],
      "text/plain": [
       "                                        pc_GDP_PPP  pc_GDP_growth    weight\n",
       "country_iso3_code country                                                  \n",
       "ABW               Aruba                  10.227798       0.995324  0.005404\n",
       "AGO               Angola                       NaN       1.026443  0.005573\n",
       "ALB               Albania                 7.880279       1.052317  0.005713\n",
       "ARE               United Arab Emirates   11.401524       0.982802  0.005336\n",
       "ARG               Argentina                    NaN       1.009583  0.005481"
      ]
     },
     "execution_count": 62,
     "metadata": {},
     "output_type": "execute_result"
    }
   ],
   "source": [
    "na_df.head()"
   ]
  },
  {
   "cell_type": "code",
   "execution_count": 58,
   "metadata": {},
   "outputs": [
    {
     "data": {
      "image/png": "[encoded data removed]",
      "text/plain": [
       "<Figure size 432x288 with 1 Axes>"
      ]
     },
     "metadata": {
      "needs_background": "light"
     },
     "output_type": "display_data"
    }
   ],
   "source": [
    "ax1 = sns.regplot(x = 'pc_GDP_PPP', y = 'pc_GDP_growth', data = convergence_df, ci = None, color = 'r')\n",
    "sns.regplot(x = 'pc_GDP_PPP', y = 'pc_GDP_growth', data = na_df, fit_reg = False, ax = ax1)\n",
    "ax1.set_xlabel('PPP adjusted per capita GDP in 1995')\n",
    "ax1.set_ylabel('Annual growth in per capita GDP\\n1995-2018')\n",
    "ax1.set_title('Income Convergence, 1995-2018 (Full sample)')\n",
    "ax1.legend(['full sample regression', 'set to missing'])\n",
    "plt.show()"
   ]
  },
  {
   "cell_type": "code",
   "execution_count": 59,
   "metadata": {},
   "outputs": [],
   "source": [
    "model = sm.OLS.from_formula('pc_GDP_PPP ~ pc_GDP_growth', na_df, missing = 'drop')\n",
    "rslts = model.fit()\n",
    "beta0 = rslts.params['Intercept']\n",
    "beta1 = rslts.params['pc_GDP_growth']\n",
    "std0 = rslts.bse['Intercept']\n",
    "std1 = rslts.bse['pc_GDP_growth']"
   ]
  },
  {
   "cell_type": "code",
   "execution_count": 60,
   "metadata": {},
   "outputs": [],
   "source": [
    "imputed_df = na_df.copy()"
   ]
  },
  {
   "cell_type": "code",
   "execution_count": 61,
   "metadata": {},
   "outputs": [],
   "source": [
    "for i in imputed_df.loc[imputed_df.pc_GDP_PPP.isna()].index:\n",
    "    imputed_df.pc_GDP_PPP[i] = np.random.normal(loc = beta0, scale = std0, size = 1) + \\\n",
    "                               np.random.normal(loc = beta1, scale = std1, size = 1) * imputed_df.pc_GDP_growth[i]"
   ]
  },
  {
   "cell_type": "code",
   "execution_count": 63,
   "metadata": {},
   "outputs": [
    {
     "data": {
      "text/html": [
       "<div>\n",
       "<style scoped>\n",
       "    .dataframe tbody tr th:only-of-type {\n",
       "        vertical-align: middle;\n",
       "    }\n",
       "\n",
       "    .dataframe tbody tr th {\n",
       "        vertical-align: top;\n",
       "    }\n",
       "\n",
       "    .dataframe thead th {\n",
       "        text-align: right;\n",
       "    }\n",
       "</style>\n",
       "<table border=\"1\" class=\"dataframe\">\n",
       "  <thead>\n",
       "    <tr style=\"text-align: right;\">\n",
       "      <th></th>\n",
       "      <th></th>\n",
       "      <th>pc_GDP_PPP</th>\n",
       "      <th>pc_GDP_growth</th>\n",
       "      <th>weight</th>\n",
       "    </tr>\n",
       "    <tr>\n",
       "      <th>country_iso3_code</th>\n",
       "      <th>country</th>\n",
       "      <th></th>\n",
       "      <th></th>\n",
       "      <th></th>\n",
       "    </tr>\n",
       "  </thead>\n",
       "  <tbody>\n",
       "    <tr>\n",
       "      <td>ABW</td>\n",
       "      <td>Aruba</td>\n",
       "      <td>10.227798</td>\n",
       "      <td>0.995324</td>\n",
       "      <td>0.005404</td>\n",
       "    </tr>\n",
       "    <tr>\n",
       "      <td>AGO</td>\n",
       "      <td>Angola</td>\n",
       "      <td>16.113729</td>\n",
       "      <td>1.026443</td>\n",
       "      <td>0.005573</td>\n",
       "    </tr>\n",
       "    <tr>\n",
       "      <td>ALB</td>\n",
       "      <td>Albania</td>\n",
       "      <td>7.880279</td>\n",
       "      <td>1.052317</td>\n",
       "      <td>0.005713</td>\n",
       "    </tr>\n",
       "    <tr>\n",
       "      <td>ARE</td>\n",
       "      <td>United Arab Emirates</td>\n",
       "      <td>11.401524</td>\n",
       "      <td>0.982802</td>\n",
       "      <td>0.005336</td>\n",
       "    </tr>\n",
       "    <tr>\n",
       "      <td>ARG</td>\n",
       "      <td>Argentina</td>\n",
       "      <td>6.217311</td>\n",
       "      <td>1.009583</td>\n",
       "      <td>0.005481</td>\n",
       "    </tr>\n",
       "  </tbody>\n",
       "</table>\n",
       "</div>"
      ],
      "text/plain": [
       "                                        pc_GDP_PPP  pc_GDP_growth    weight\n",
       "country_iso3_code country                                                  \n",
       "ABW               Aruba                  10.227798       0.995324  0.005404\n",
       "AGO               Angola                 16.113729       1.026443  0.005573\n",
       "ALB               Albania                 7.880279       1.052317  0.005713\n",
       "ARE               United Arab Emirates   11.401524       0.982802  0.005336\n",
       "ARG               Argentina               6.217311       1.009583  0.005481"
      ]
     },
     "execution_count": 63,
     "metadata": {},
     "output_type": "execute_result"
    }
   ],
   "source": [
    "imputed_df.head()"
   ]
  },
  {
   "cell_type": "code",
   "execution_count": 70,
   "metadata": {},
   "outputs": [],
   "source": [
    "%run Analysis.py"
   ]
  },
  {
   "cell_type": "code",
   "execution_count": 41,
   "metadata": {},
   "outputs": [],
   "source": [
    "na_df_list = simulate_na(convergence_df)"
   ]
  },
  {
   "cell_type": "code",
   "execution_count": 43,
   "metadata": {},
   "outputs": [
    {
     "data": {
      "text/html": [
       "<div>\n",
       "<style scoped>\n",
       "    .dataframe tbody tr th:only-of-type {\n",
       "        vertical-align: middle;\n",
       "    }\n",
       "\n",
       "    .dataframe tbody tr th {\n",
       "        vertical-align: top;\n",
       "    }\n",
       "\n",
       "    .dataframe thead th {\n",
       "        text-align: right;\n",
       "    }\n",
       "</style>\n",
       "<table border=\"1\" class=\"dataframe\">\n",
       "  <thead>\n",
       "    <tr style=\"text-align: right;\">\n",
       "      <th></th>\n",
       "      <th></th>\n",
       "      <th>pc_GDP_PPP</th>\n",
       "      <th>pc_GDP_growth</th>\n",
       "      <th>weight</th>\n",
       "    </tr>\n",
       "    <tr>\n",
       "      <th>country_iso3_code</th>\n",
       "      <th>country</th>\n",
       "      <th></th>\n",
       "      <th></th>\n",
       "      <th></th>\n",
       "    </tr>\n",
       "  </thead>\n",
       "  <tbody>\n",
       "    <tr>\n",
       "      <td>ABW</td>\n",
       "      <td>Aruba</td>\n",
       "      <td>NaN</td>\n",
       "      <td>0.995324</td>\n",
       "      <td>0.005404</td>\n",
       "    </tr>\n",
       "    <tr>\n",
       "      <td>AGO</td>\n",
       "      <td>Angola</td>\n",
       "      <td>NaN</td>\n",
       "      <td>1.026443</td>\n",
       "      <td>0.005573</td>\n",
       "    </tr>\n",
       "    <tr>\n",
       "      <td>ALB</td>\n",
       "      <td>Albania</td>\n",
       "      <td>NaN</td>\n",
       "      <td>1.052317</td>\n",
       "      <td>0.005713</td>\n",
       "    </tr>\n",
       "    <tr>\n",
       "      <td>ARE</td>\n",
       "      <td>United Arab Emirates</td>\n",
       "      <td>NaN</td>\n",
       "      <td>0.982802</td>\n",
       "      <td>0.005336</td>\n",
       "    </tr>\n",
       "    <tr>\n",
       "      <td>ARG</td>\n",
       "      <td>Argentina</td>\n",
       "      <td>NaN</td>\n",
       "      <td>1.009583</td>\n",
       "      <td>0.005481</td>\n",
       "    </tr>\n",
       "    <tr>\n",
       "      <td>ARM</td>\n",
       "      <td>Armenia</td>\n",
       "      <td>NaN</td>\n",
       "      <td>1.065721</td>\n",
       "      <td>0.005786</td>\n",
       "    </tr>\n",
       "    <tr>\n",
       "      <td>ATG</td>\n",
       "      <td>Antigua and Barbuda</td>\n",
       "      <td>9.525901</td>\n",
       "      <td>1.009830</td>\n",
       "      <td>0.005483</td>\n",
       "    </tr>\n",
       "    <tr>\n",
       "      <td>AUS</td>\n",
       "      <td>Australia</td>\n",
       "      <td>9.950490</td>\n",
       "      <td>1.017915</td>\n",
       "      <td>0.005527</td>\n",
       "    </tr>\n",
       "    <tr>\n",
       "      <td>AUT</td>\n",
       "      <td>Austria</td>\n",
       "      <td>10.068588</td>\n",
       "      <td>1.014251</td>\n",
       "      <td>0.005507</td>\n",
       "    </tr>\n",
       "    <tr>\n",
       "      <td>AZE</td>\n",
       "      <td>Azerbaijan</td>\n",
       "      <td>NaN</td>\n",
       "      <td>1.060272</td>\n",
       "      <td>0.005757</td>\n",
       "    </tr>\n",
       "    <tr>\n",
       "      <td>BDI</td>\n",
       "      <td>Burundi</td>\n",
       "      <td>6.321342</td>\n",
       "      <td>0.986912</td>\n",
       "      <td>0.005358</td>\n",
       "    </tr>\n",
       "    <tr>\n",
       "      <td>BEL</td>\n",
       "      <td>Belgium</td>\n",
       "      <td>NaN</td>\n",
       "      <td>1.013655</td>\n",
       "      <td>0.005504</td>\n",
       "    </tr>\n",
       "    <tr>\n",
       "      <td>BEN</td>\n",
       "      <td>Benin</td>\n",
       "      <td>NaN</td>\n",
       "      <td>1.015293</td>\n",
       "      <td>0.005512</td>\n",
       "    </tr>\n",
       "    <tr>\n",
       "      <td>BFA</td>\n",
       "      <td>Burkina Faso</td>\n",
       "      <td>NaN</td>\n",
       "      <td>1.029898</td>\n",
       "      <td>0.005592</td>\n",
       "    </tr>\n",
       "    <tr>\n",
       "      <td>BGD</td>\n",
       "      <td>Bangladesh</td>\n",
       "      <td>NaN</td>\n",
       "      <td>1.042155</td>\n",
       "      <td>0.005658</td>\n",
       "    </tr>\n",
       "    <tr>\n",
       "      <td>BGR</td>\n",
       "      <td>Bulgaria</td>\n",
       "      <td>8.888281</td>\n",
       "      <td>1.036483</td>\n",
       "      <td>0.005627</td>\n",
       "    </tr>\n",
       "    <tr>\n",
       "      <td>BHR</td>\n",
       "      <td>Bahrain</td>\n",
       "      <td>10.520070</td>\n",
       "      <td>0.999642</td>\n",
       "      <td>0.005427</td>\n",
       "    </tr>\n",
       "    <tr>\n",
       "      <td>BHS</td>\n",
       "      <td>Bahamas, The</td>\n",
       "      <td>NaN</td>\n",
       "      <td>1.001510</td>\n",
       "      <td>0.005438</td>\n",
       "    </tr>\n",
       "    <tr>\n",
       "      <td>BIH</td>\n",
       "      <td>Bosnia and Herzegovina</td>\n",
       "      <td>7.488256</td>\n",
       "      <td>1.093795</td>\n",
       "      <td>0.005939</td>\n",
       "    </tr>\n",
       "    <tr>\n",
       "      <td>BLR</td>\n",
       "      <td>Belarus</td>\n",
       "      <td>8.302469</td>\n",
       "      <td>1.045724</td>\n",
       "      <td>0.005678</td>\n",
       "    </tr>\n",
       "  </tbody>\n",
       "</table>\n",
       "</div>"
      ],
      "text/plain": [
       "                                          pc_GDP_PPP  pc_GDP_growth    weight\n",
       "country_iso3_code country                                                    \n",
       "ABW               Aruba                          NaN       0.995324  0.005404\n",
       "AGO               Angola                         NaN       1.026443  0.005573\n",
       "ALB               Albania                        NaN       1.052317  0.005713\n",
       "ARE               United Arab Emirates           NaN       0.982802  0.005336\n",
       "ARG               Argentina                      NaN       1.009583  0.005481\n",
       "ARM               Armenia                        NaN       1.065721  0.005786\n",
       "ATG               Antigua and Barbuda       9.525901       1.009830  0.005483\n",
       "AUS               Australia                 9.950490       1.017915  0.005527\n",
       "AUT               Austria                  10.068588       1.014251  0.005507\n",
       "AZE               Azerbaijan                     NaN       1.060272  0.005757\n",
       "BDI               Burundi                   6.321342       0.986912  0.005358\n",
       "BEL               Belgium                        NaN       1.013655  0.005504\n",
       "BEN               Benin                          NaN       1.015293  0.005512\n",
       "BFA               Burkina Faso                   NaN       1.029898  0.005592\n",
       "BGD               Bangladesh                     NaN       1.042155  0.005658\n",
       "BGR               Bulgaria                  8.888281       1.036483  0.005627\n",
       "BHR               Bahrain                  10.520070       0.999642  0.005427\n",
       "BHS               Bahamas, The                   NaN       1.001510  0.005438\n",
       "BIH               Bosnia and Herzegovina    7.488256       1.093795  0.005939\n",
       "BLR               Belarus                   8.302469       1.045724  0.005678"
      ]
     },
     "execution_count": 43,
     "metadata": {},
     "output_type": "execute_result"
    }
   ],
   "source": [
    "na_df_list[0].head(20)"
   ]
  },
  {
   "cell_type": "code",
   "execution_count": 46,
   "metadata": {},
   "outputs": [],
   "source": [
    "na_ols_rslts_dict = run_ols(na_df_list)"
   ]
  },
  {
   "cell_type": "code",
   "execution_count": 48,
   "metadata": {},
   "outputs": [],
   "source": [
    "na_betas_df = get_betas(na_ols_rslts_dict, scope = 'complete case')"
   ]
  },
  {
   "cell_type": "code",
   "execution_count": 49,
   "metadata": {},
   "outputs": [
    {
     "data": {
      "text/html": [
       "<div>\n",
       "<style scoped>\n",
       "    .dataframe tbody tr th:only-of-type {\n",
       "        vertical-align: middle;\n",
       "    }\n",
       "\n",
       "    .dataframe tbody tr th {\n",
       "        vertical-align: top;\n",
       "    }\n",
       "\n",
       "    .dataframe thead th {\n",
       "        text-align: right;\n",
       "    }\n",
       "</style>\n",
       "<table border=\"1\" class=\"dataframe\">\n",
       "  <thead>\n",
       "    <tr style=\"text-align: right;\">\n",
       "      <th></th>\n",
       "      <th>scope</th>\n",
       "      <th>type</th>\n",
       "      <th>beta0</th>\n",
       "      <th>beta1</th>\n",
       "      <th>std0</th>\n",
       "      <th>std1</th>\n",
       "    </tr>\n",
       "  </thead>\n",
       "  <tbody>\n",
       "    <tr>\n",
       "      <td>0</td>\n",
       "      <td>complete case</td>\n",
       "      <td>x_on_y</td>\n",
       "      <td>29.470645</td>\n",
       "      <td>-20.489063</td>\n",
       "      <td>6.698211</td>\n",
       "      <td>6.551989</td>\n",
       "    </tr>\n",
       "    <tr>\n",
       "      <td>1</td>\n",
       "      <td>complete case</td>\n",
       "      <td>x_on_y</td>\n",
       "      <td>21.219700</td>\n",
       "      <td>-12.382042</td>\n",
       "      <td>7.956806</td>\n",
       "      <td>7.782286</td>\n",
       "    </tr>\n",
       "    <tr>\n",
       "      <td>2</td>\n",
       "      <td>complete case</td>\n",
       "      <td>x_on_y</td>\n",
       "      <td>18.519085</td>\n",
       "      <td>-9.831470</td>\n",
       "      <td>6.217852</td>\n",
       "      <td>6.075955</td>\n",
       "    </tr>\n",
       "    <tr>\n",
       "      <td>3</td>\n",
       "      <td>complete case</td>\n",
       "      <td>x_on_y</td>\n",
       "      <td>29.813835</td>\n",
       "      <td>-20.904243</td>\n",
       "      <td>6.322246</td>\n",
       "      <td>6.171928</td>\n",
       "    </tr>\n",
       "    <tr>\n",
       "      <td>4</td>\n",
       "      <td>complete case</td>\n",
       "      <td>x_on_y</td>\n",
       "      <td>27.152324</td>\n",
       "      <td>-18.294038</td>\n",
       "      <td>7.258835</td>\n",
       "      <td>7.097826</td>\n",
       "    </tr>\n",
       "  </tbody>\n",
       "</table>\n",
       "</div>"
      ],
      "text/plain": [
       "           scope    type      beta0      beta1      std0      std1\n",
       "0  complete case  x_on_y  29.470645 -20.489063  6.698211  6.551989\n",
       "1  complete case  x_on_y  21.219700 -12.382042  7.956806  7.782286\n",
       "2  complete case  x_on_y  18.519085  -9.831470  6.217852  6.075955\n",
       "3  complete case  x_on_y  29.813835 -20.904243  6.322246  6.171928\n",
       "4  complete case  x_on_y  27.152324 -18.294038  7.258835  7.097826"
      ]
     },
     "execution_count": 49,
     "metadata": {},
     "output_type": "execute_result"
    }
   ],
   "source": [
    "na_betas_df.head()"
   ]
  },
  {
   "cell_type": "code",
   "execution_count": 51,
   "metadata": {},
   "outputs": [],
   "source": [
    "fs_ols_rslts_dict = run_ols([convergence_df])"
   ]
  },
  {
   "cell_type": "code",
   "execution_count": 52,
   "metadata": {},
   "outputs": [],
   "source": [
    "fs_betas_df = get_betas(fs_ols_rslts_dict, scope = 'full sample')"
   ]
  },
  {
   "cell_type": "code",
   "execution_count": 53,
   "metadata": {},
   "outputs": [
    {
     "data": {
      "text/html": [
       "<div>\n",
       "<style scoped>\n",
       "    .dataframe tbody tr th:only-of-type {\n",
       "        vertical-align: middle;\n",
       "    }\n",
       "\n",
       "    .dataframe tbody tr th {\n",
       "        vertical-align: top;\n",
       "    }\n",
       "\n",
       "    .dataframe thead th {\n",
       "        text-align: right;\n",
       "    }\n",
       "</style>\n",
       "<table border=\"1\" class=\"dataframe\">\n",
       "  <thead>\n",
       "    <tr style=\"text-align: right;\">\n",
       "      <th></th>\n",
       "      <th>scope</th>\n",
       "      <th>type</th>\n",
       "      <th>beta0</th>\n",
       "      <th>beta1</th>\n",
       "      <th>std0</th>\n",
       "      <th>std1</th>\n",
       "    </tr>\n",
       "  </thead>\n",
       "  <tbody>\n",
       "    <tr>\n",
       "      <td>0</td>\n",
       "      <td>full sample</td>\n",
       "      <td>x_on_y</td>\n",
       "      <td>26.433121</td>\n",
       "      <td>-17.571501</td>\n",
       "      <td>4.577637</td>\n",
       "      <td>4.472893</td>\n",
       "    </tr>\n",
       "    <tr>\n",
       "      <td>1</td>\n",
       "      <td>full sample</td>\n",
       "      <td>y_on_x</td>\n",
       "      <td>1.061615</td>\n",
       "      <td>-0.004540</td>\n",
       "      <td>0.009870</td>\n",
       "      <td>0.001156</td>\n",
       "    </tr>\n",
       "  </tbody>\n",
       "</table>\n",
       "</div>"
      ],
      "text/plain": [
       "         scope    type      beta0      beta1      std0      std1\n",
       "0  full sample  x_on_y  26.433121 -17.571501  4.577637  4.472893\n",
       "1  full sample  y_on_x   1.061615  -0.004540  0.009870  0.001156"
      ]
     },
     "execution_count": 53,
     "metadata": {},
     "output_type": "execute_result"
    }
   ],
   "source": [
    "fs_betas_df.head()"
   ]
  },
  {
   "cell_type": "code",
   "execution_count": 71,
   "metadata": {},
   "outputs": [],
   "source": [
    "imputed_df_list = impute_na(na_df_list, na_betas_df.loc[na_betas_df.type == 'x_on_y'])"
   ]
  },
  {
   "cell_type": "code",
   "execution_count": 73,
   "metadata": {},
   "outputs": [
    {
     "data": {
      "text/html": [
       "<div>\n",
       "<style scoped>\n",
       "    .dataframe tbody tr th:only-of-type {\n",
       "        vertical-align: middle;\n",
       "    }\n",
       "\n",
       "    .dataframe tbody tr th {\n",
       "        vertical-align: top;\n",
       "    }\n",
       "\n",
       "    .dataframe thead th {\n",
       "        text-align: right;\n",
       "    }\n",
       "</style>\n",
       "<table border=\"1\" class=\"dataframe\">\n",
       "  <thead>\n",
       "    <tr style=\"text-align: right;\">\n",
       "      <th></th>\n",
       "      <th></th>\n",
       "      <th>pc_GDP_PPP</th>\n",
       "      <th>pc_GDP_growth</th>\n",
       "      <th>weight</th>\n",
       "    </tr>\n",
       "    <tr>\n",
       "      <th>country_iso3_code</th>\n",
       "      <th>country</th>\n",
       "      <th></th>\n",
       "      <th></th>\n",
       "      <th></th>\n",
       "    </tr>\n",
       "  </thead>\n",
       "  <tbody>\n",
       "    <tr>\n",
       "      <td>ABW</td>\n",
       "      <td>Aruba</td>\n",
       "      <td>1.981082</td>\n",
       "      <td>0.995324</td>\n",
       "      <td>0.005404</td>\n",
       "    </tr>\n",
       "    <tr>\n",
       "      <td>AGO</td>\n",
       "      <td>Angola</td>\n",
       "      <td>-2.124945</td>\n",
       "      <td>1.026443</td>\n",
       "      <td>0.005573</td>\n",
       "    </tr>\n",
       "    <tr>\n",
       "      <td>ALB</td>\n",
       "      <td>Albania</td>\n",
       "      <td>37.240467</td>\n",
       "      <td>1.052317</td>\n",
       "      <td>0.005713</td>\n",
       "    </tr>\n",
       "    <tr>\n",
       "      <td>ARE</td>\n",
       "      <td>United Arab Emirates</td>\n",
       "      <td>5.998242</td>\n",
       "      <td>0.982802</td>\n",
       "      <td>0.005336</td>\n",
       "    </tr>\n",
       "    <tr>\n",
       "      <td>ARG</td>\n",
       "      <td>Argentina</td>\n",
       "      <td>7.756237</td>\n",
       "      <td>1.009583</td>\n",
       "      <td>0.005481</td>\n",
       "    </tr>\n",
       "    <tr>\n",
       "      <td>ARM</td>\n",
       "      <td>Armenia</td>\n",
       "      <td>8.748514</td>\n",
       "      <td>1.065721</td>\n",
       "      <td>0.005786</td>\n",
       "    </tr>\n",
       "    <tr>\n",
       "      <td>ATG</td>\n",
       "      <td>Antigua and Barbuda</td>\n",
       "      <td>9.525901</td>\n",
       "      <td>1.009830</td>\n",
       "      <td>0.005483</td>\n",
       "    </tr>\n",
       "    <tr>\n",
       "      <td>AUS</td>\n",
       "      <td>Australia</td>\n",
       "      <td>9.950490</td>\n",
       "      <td>1.017915</td>\n",
       "      <td>0.005527</td>\n",
       "    </tr>\n",
       "    <tr>\n",
       "      <td>AUT</td>\n",
       "      <td>Austria</td>\n",
       "      <td>10.068588</td>\n",
       "      <td>1.014251</td>\n",
       "      <td>0.005507</td>\n",
       "    </tr>\n",
       "    <tr>\n",
       "      <td>AZE</td>\n",
       "      <td>Azerbaijan</td>\n",
       "      <td>22.138210</td>\n",
       "      <td>1.060272</td>\n",
       "      <td>0.005757</td>\n",
       "    </tr>\n",
       "    <tr>\n",
       "      <td>BDI</td>\n",
       "      <td>Burundi</td>\n",
       "      <td>6.321342</td>\n",
       "      <td>0.986912</td>\n",
       "      <td>0.005358</td>\n",
       "    </tr>\n",
       "    <tr>\n",
       "      <td>BEL</td>\n",
       "      <td>Belgium</td>\n",
       "      <td>3.102277</td>\n",
       "      <td>1.013655</td>\n",
       "      <td>0.005504</td>\n",
       "    </tr>\n",
       "    <tr>\n",
       "      <td>BEN</td>\n",
       "      <td>Benin</td>\n",
       "      <td>0.866986</td>\n",
       "      <td>1.015293</td>\n",
       "      <td>0.005512</td>\n",
       "    </tr>\n",
       "    <tr>\n",
       "      <td>BFA</td>\n",
       "      <td>Burkina Faso</td>\n",
       "      <td>13.197565</td>\n",
       "      <td>1.029898</td>\n",
       "      <td>0.005592</td>\n",
       "    </tr>\n",
       "    <tr>\n",
       "      <td>BGD</td>\n",
       "      <td>Bangladesh</td>\n",
       "      <td>20.332425</td>\n",
       "      <td>1.042155</td>\n",
       "      <td>0.005658</td>\n",
       "    </tr>\n",
       "    <tr>\n",
       "      <td>BGR</td>\n",
       "      <td>Bulgaria</td>\n",
       "      <td>8.888281</td>\n",
       "      <td>1.036483</td>\n",
       "      <td>0.005627</td>\n",
       "    </tr>\n",
       "    <tr>\n",
       "      <td>BHR</td>\n",
       "      <td>Bahrain</td>\n",
       "      <td>10.520070</td>\n",
       "      <td>0.999642</td>\n",
       "      <td>0.005427</td>\n",
       "    </tr>\n",
       "    <tr>\n",
       "      <td>BHS</td>\n",
       "      <td>Bahamas, The</td>\n",
       "      <td>20.018892</td>\n",
       "      <td>1.001510</td>\n",
       "      <td>0.005438</td>\n",
       "    </tr>\n",
       "    <tr>\n",
       "      <td>BIH</td>\n",
       "      <td>Bosnia and Herzegovina</td>\n",
       "      <td>7.488256</td>\n",
       "      <td>1.093795</td>\n",
       "      <td>0.005939</td>\n",
       "    </tr>\n",
       "    <tr>\n",
       "      <td>BLR</td>\n",
       "      <td>Belarus</td>\n",
       "      <td>8.302469</td>\n",
       "      <td>1.045724</td>\n",
       "      <td>0.005678</td>\n",
       "    </tr>\n",
       "  </tbody>\n",
       "</table>\n",
       "</div>"
      ],
      "text/plain": [
       "                                          pc_GDP_PPP  pc_GDP_growth    weight\n",
       "country_iso3_code country                                                    \n",
       "ABW               Aruba                     1.981082       0.995324  0.005404\n",
       "AGO               Angola                   -2.124945       1.026443  0.005573\n",
       "ALB               Albania                  37.240467       1.052317  0.005713\n",
       "ARE               United Arab Emirates      5.998242       0.982802  0.005336\n",
       "ARG               Argentina                 7.756237       1.009583  0.005481\n",
       "ARM               Armenia                   8.748514       1.065721  0.005786\n",
       "ATG               Antigua and Barbuda       9.525901       1.009830  0.005483\n",
       "AUS               Australia                 9.950490       1.017915  0.005527\n",
       "AUT               Austria                  10.068588       1.014251  0.005507\n",
       "AZE               Azerbaijan               22.138210       1.060272  0.005757\n",
       "BDI               Burundi                   6.321342       0.986912  0.005358\n",
       "BEL               Belgium                   3.102277       1.013655  0.005504\n",
       "BEN               Benin                     0.866986       1.015293  0.005512\n",
       "BFA               Burkina Faso             13.197565       1.029898  0.005592\n",
       "BGD               Bangladesh               20.332425       1.042155  0.005658\n",
       "BGR               Bulgaria                  8.888281       1.036483  0.005627\n",
       "BHR               Bahrain                  10.520070       0.999642  0.005427\n",
       "BHS               Bahamas, The             20.018892       1.001510  0.005438\n",
       "BIH               Bosnia and Herzegovina    7.488256       1.093795  0.005939\n",
       "BLR               Belarus                   8.302469       1.045724  0.005678"
      ]
     },
     "execution_count": 73,
     "metadata": {},
     "output_type": "execute_result"
    }
   ],
   "source": [
    "imputed_df_list[0].head(20)"
   ]
  },
  {
   "cell_type": "code",
   "execution_count": 74,
   "metadata": {},
   "outputs": [
    {
     "data": {
      "text/html": [
       "<div>\n",
       "<style scoped>\n",
       "    .dataframe tbody tr th:only-of-type {\n",
       "        vertical-align: middle;\n",
       "    }\n",
       "\n",
       "    .dataframe tbody tr th {\n",
       "        vertical-align: top;\n",
       "    }\n",
       "\n",
       "    .dataframe thead th {\n",
       "        text-align: right;\n",
       "    }\n",
       "</style>\n",
       "<table border=\"1\" class=\"dataframe\">\n",
       "  <thead>\n",
       "    <tr style=\"text-align: right;\">\n",
       "      <th></th>\n",
       "      <th>scope</th>\n",
       "      <th>type</th>\n",
       "      <th>beta0</th>\n",
       "      <th>beta1</th>\n",
       "      <th>std0</th>\n",
       "      <th>std1</th>\n",
       "    </tr>\n",
       "  </thead>\n",
       "  <tbody>\n",
       "    <tr>\n",
       "      <td>0</td>\n",
       "      <td>imputed sample</td>\n",
       "      <td>x_on_y</td>\n",
       "      <td>-16.541151</td>\n",
       "      <td>24.986115</td>\n",
       "      <td>22.417278</td>\n",
       "      <td>21.904333</td>\n",
       "    </tr>\n",
       "    <tr>\n",
       "      <td>1</td>\n",
       "      <td>imputed sample</td>\n",
       "      <td>x_on_y</td>\n",
       "      <td>15.003930</td>\n",
       "      <td>-5.124509</td>\n",
       "      <td>26.667342</td>\n",
       "      <td>26.057148</td>\n",
       "    </tr>\n",
       "    <tr>\n",
       "      <td>2</td>\n",
       "      <td>imputed sample</td>\n",
       "      <td>x_on_y</td>\n",
       "      <td>-35.625230</td>\n",
       "      <td>42.970028</td>\n",
       "      <td>23.081074</td>\n",
       "      <td>22.552940</td>\n",
       "    </tr>\n",
       "    <tr>\n",
       "      <td>3</td>\n",
       "      <td>imputed sample</td>\n",
       "      <td>x_on_y</td>\n",
       "      <td>38.334358</td>\n",
       "      <td>-28.678766</td>\n",
       "      <td>25.001578</td>\n",
       "      <td>24.429500</td>\n",
       "    </tr>\n",
       "    <tr>\n",
       "      <td>4</td>\n",
       "      <td>imputed sample</td>\n",
       "      <td>x_on_y</td>\n",
       "      <td>68.008285</td>\n",
       "      <td>-58.071019</td>\n",
       "      <td>29.432383</td>\n",
       "      <td>28.758921</td>\n",
       "    </tr>\n",
       "  </tbody>\n",
       "</table>\n",
       "</div>"
      ],
      "text/plain": [
       "            scope    type      beta0      beta1       std0       std1\n",
       "0  imputed sample  x_on_y -16.541151  24.986115  22.417278  21.904333\n",
       "1  imputed sample  x_on_y  15.003930  -5.124509  26.667342  26.057148\n",
       "2  imputed sample  x_on_y -35.625230  42.970028  23.081074  22.552940\n",
       "3  imputed sample  x_on_y  38.334358 -28.678766  25.001578  24.429500\n",
       "4  imputed sample  x_on_y  68.008285 -58.071019  29.432383  28.758921"
      ]
     },
     "execution_count": 74,
     "metadata": {},
     "output_type": "execute_result"
    }
   ],
   "source": [
    "is_ols_rslts_dict = run_ols(imputed_df_list)\n",
    "is_betas_df = get_betas(is_ols_rslts_dict, scope = 'imputed sample')\n",
    "is_betas_df.head()"
   ]
  },
  {
   "cell_type": "code",
   "execution_count": 83,
   "metadata": {},
   "outputs": [],
   "source": [
    "betas_df = fs_betas_df.append(na_betas_df, ignore_index = True)\n",
    "betas_df = betas_df.append(is_betas_df, ignore_index = True)\n",
    "betas_df = betas_df.reset_index()"
   ]
  },
  {
   "cell_type": "code",
   "execution_count": 91,
   "metadata": {},
   "outputs": [
    {
     "data": {
      "text/html": [
       "<div>\n",
       "<style scoped>\n",
       "    .dataframe tbody tr th:only-of-type {\n",
       "        vertical-align: middle;\n",
       "    }\n",
       "\n",
       "    .dataframe tbody tr th {\n",
       "        vertical-align: top;\n",
       "    }\n",
       "\n",
       "    .dataframe thead th {\n",
       "        text-align: right;\n",
       "    }\n",
       "</style>\n",
       "<table border=\"1\" class=\"dataframe\">\n",
       "  <thead>\n",
       "    <tr style=\"text-align: right;\">\n",
       "      <th></th>\n",
       "      <th>beta1</th>\n",
       "      <th>std1</th>\n",
       "    </tr>\n",
       "    <tr>\n",
       "      <th>scope</th>\n",
       "      <th></th>\n",
       "      <th></th>\n",
       "    </tr>\n",
       "  </thead>\n",
       "  <tbody>\n",
       "    <tr>\n",
       "      <td>complete case</td>\n",
       "      <td>-0.004477</td>\n",
       "      <td>0.001629</td>\n",
       "    </tr>\n",
       "    <tr>\n",
       "      <td>full sample</td>\n",
       "      <td>-0.004540</td>\n",
       "      <td>0.001156</td>\n",
       "    </tr>\n",
       "    <tr>\n",
       "      <td>imputed sample</td>\n",
       "      <td>-0.000085</td>\n",
       "      <td>0.000225</td>\n",
       "    </tr>\n",
       "  </tbody>\n",
       "</table>\n",
       "</div>"
      ],
      "text/plain": [
       "                   beta1      std1\n",
       "scope                             \n",
       "complete case  -0.004477  0.001629\n",
       "full sample    -0.004540  0.001156\n",
       "imputed sample -0.000085  0.000225"
      ]
     },
     "execution_count": 91,
     "metadata": {},
     "output_type": "execute_result"
    }
   ],
   "source": [
    "betas_df.loc[betas_df.type == 'y_on_x'].groupby('scope').mean()[['beta1', 'std1']]"
   ]
  },
  {
   "cell_type": "code",
   "execution_count": null,
   "metadata": {},
   "outputs": [],
   "source": []
  }
 ],
 "metadata": {
  "kernelspec": {
   "display_name": "Python 3",
   "language": "python",
   "name": "python3"
  },
  "language_info": {
   "codemirror_mode": {
    "name": "ipython",
    "version": 3
   },
   "file_extension": ".py",
   "mimetype": "text/x-python",
   "name": "python",
   "nbconvert_exporter": "python",
   "pygments_lexer": "ipython3",
   "version": "3.7.4"
  }
 },
 "nbformat": 4,
 "nbformat_minor": 4
}
